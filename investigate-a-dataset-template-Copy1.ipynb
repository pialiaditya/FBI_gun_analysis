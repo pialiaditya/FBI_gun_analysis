{
 "cells": [
  {
   "cell_type": "markdown",
   "metadata": {},
   "source": [
    "\n",
    "\n",
    "# Project: Analyzing gun data in the United States\n",
    "\n",
    "## Table of Contents\n",
    "<ul>\n",
    "<li><a href=\"#intro\">Introduction</a></li>\n",
    "<li><a href=\"#wrangling\">Data Wrangling</a></li>\n",
    "<li><a href=\"#eda\">Exploratory Data Analysis</a></li>\n",
    "<li><a href=\"#conclusions\">Conclusions</a></li>\n",
    "</ul>"
   ]
  },
  {
   "cell_type": "markdown",
   "metadata": {},
   "source": [
    "<a id='intro'></a>\n",
    "## Introduction\n",
    "\n",
    "\n",
    "\n",
    ">In this report I use 2 datasets- gun data from FBI's National Instant Background Check System and census data. The FBI gun data contains information about the number of monthly background checks for permits, registered and private gun sales and rentals for all the 50 states from September 2017 till November 1998. The census data contains population estimates for 2010 and 2016 and other attributes like race, educaton level etc. With these datasets I analyzed 2 main questions: \n",
    "\n",
    "> 1) What is the overall trend in gun sales over the years.\n",
    "\n",
    "> 2) What is the percapita gun sales in all 50 states in 2010 and 2016.\n"
   ]
  },
  {
   "cell_type": "markdown",
   "metadata": {},
   "source": [
    "\n"
   ]
  },
  {
   "cell_type": "code",
   "execution_count": 1,
   "metadata": {
    "collapsed": false
   },
   "outputs": [],
   "source": [
    "# Import statements for all of the packages used in the project\n",
    "import pandas as pd\n",
    "import numpy as np\n",
    "import matplotlib.pyplot as plt\n",
    "% matplotlib inline"
   ]
  },
  {
   "cell_type": "markdown",
   "metadata": {},
   "source": [
    "<a id='wrangling'></a>\n",
    "## Data Wrangling\n",
    "\n",
    "> **Tip**: In this section of the report, you will load in the data, check for cleanliness, and then trim and clean your dataset for analysis. Make sure that you document your steps carefully and justify your cleaning decisions.\n",
    "\n",
    "### General Properties"
   ]
  },
  {
   "cell_type": "code",
   "execution_count": 3,
   "metadata": {
    "collapsed": false
   },
   "outputs": [],
   "source": [
    "#Load the FBI gun data. Its stored in an excel file\n",
    "df_guncheck=pd.read_excel('gun_data.xlsx')\n",
    "#df_guncheck.state.unique()\n"
   ]
  },
  {
   "cell_type": "code",
   "execution_count": 3,
   "metadata": {
    "collapsed": false
   },
   "outputs": [
    {
     "data": {
      "text/html": [
       "<div>\n",
       "<table border=\"1\" class=\"dataframe\">\n",
       "  <thead>\n",
       "    <tr style=\"text-align: right;\">\n",
       "      <th></th>\n",
       "      <th>month</th>\n",
       "      <th>state</th>\n",
       "      <th>permit</th>\n",
       "      <th>permit_recheck</th>\n",
       "      <th>handgun</th>\n",
       "      <th>long_gun</th>\n",
       "      <th>other</th>\n",
       "      <th>multiple</th>\n",
       "      <th>admin</th>\n",
       "      <th>prepawn_handgun</th>\n",
       "      <th>...</th>\n",
       "      <th>returned_other</th>\n",
       "      <th>rentals_handgun</th>\n",
       "      <th>rentals_long_gun</th>\n",
       "      <th>private_sale_handgun</th>\n",
       "      <th>private_sale_long_gun</th>\n",
       "      <th>private_sale_other</th>\n",
       "      <th>return_to_seller_handgun</th>\n",
       "      <th>return_to_seller_long_gun</th>\n",
       "      <th>return_to_seller_other</th>\n",
       "      <th>totals</th>\n",
       "    </tr>\n",
       "  </thead>\n",
       "  <tbody>\n",
       "    <tr>\n",
       "      <th>0</th>\n",
       "      <td>2017-09</td>\n",
       "      <td>Alabama</td>\n",
       "      <td>16717</td>\n",
       "      <td>0</td>\n",
       "      <td>5734</td>\n",
       "      <td>6320</td>\n",
       "      <td>221</td>\n",
       "      <td>317</td>\n",
       "      <td>0</td>\n",
       "      <td>15</td>\n",
       "      <td>...</td>\n",
       "      <td>0</td>\n",
       "      <td>0</td>\n",
       "      <td>0</td>\n",
       "      <td>9</td>\n",
       "      <td>16</td>\n",
       "      <td>3</td>\n",
       "      <td>0</td>\n",
       "      <td>0</td>\n",
       "      <td>3</td>\n",
       "      <td>32019</td>\n",
       "    </tr>\n",
       "    <tr>\n",
       "      <th>1</th>\n",
       "      <td>2017-09</td>\n",
       "      <td>Alaska</td>\n",
       "      <td>209</td>\n",
       "      <td>2</td>\n",
       "      <td>2320</td>\n",
       "      <td>2930</td>\n",
       "      <td>219</td>\n",
       "      <td>160</td>\n",
       "      <td>0</td>\n",
       "      <td>5</td>\n",
       "      <td>...</td>\n",
       "      <td>0</td>\n",
       "      <td>0</td>\n",
       "      <td>0</td>\n",
       "      <td>17</td>\n",
       "      <td>24</td>\n",
       "      <td>1</td>\n",
       "      <td>0</td>\n",
       "      <td>0</td>\n",
       "      <td>0</td>\n",
       "      <td>6303</td>\n",
       "    </tr>\n",
       "    <tr>\n",
       "      <th>2</th>\n",
       "      <td>2017-09</td>\n",
       "      <td>Arizona</td>\n",
       "      <td>5069</td>\n",
       "      <td>382</td>\n",
       "      <td>11063</td>\n",
       "      <td>7946</td>\n",
       "      <td>920</td>\n",
       "      <td>631</td>\n",
       "      <td>0</td>\n",
       "      <td>13</td>\n",
       "      <td>...</td>\n",
       "      <td>0</td>\n",
       "      <td>0</td>\n",
       "      <td>0</td>\n",
       "      <td>38</td>\n",
       "      <td>12</td>\n",
       "      <td>2</td>\n",
       "      <td>0</td>\n",
       "      <td>0</td>\n",
       "      <td>0</td>\n",
       "      <td>28394</td>\n",
       "    </tr>\n",
       "    <tr>\n",
       "      <th>3</th>\n",
       "      <td>2017-09</td>\n",
       "      <td>Arkansas</td>\n",
       "      <td>2935</td>\n",
       "      <td>632</td>\n",
       "      <td>4347</td>\n",
       "      <td>6063</td>\n",
       "      <td>165</td>\n",
       "      <td>366</td>\n",
       "      <td>51</td>\n",
       "      <td>12</td>\n",
       "      <td>...</td>\n",
       "      <td>0</td>\n",
       "      <td>0</td>\n",
       "      <td>0</td>\n",
       "      <td>13</td>\n",
       "      <td>23</td>\n",
       "      <td>0</td>\n",
       "      <td>0</td>\n",
       "      <td>2</td>\n",
       "      <td>1</td>\n",
       "      <td>17747</td>\n",
       "    </tr>\n",
       "    <tr>\n",
       "      <th>4</th>\n",
       "      <td>2017-09</td>\n",
       "      <td>California</td>\n",
       "      <td>57839</td>\n",
       "      <td>0</td>\n",
       "      <td>37165</td>\n",
       "      <td>24581</td>\n",
       "      <td>2984</td>\n",
       "      <td>0</td>\n",
       "      <td>0</td>\n",
       "      <td>0</td>\n",
       "      <td>...</td>\n",
       "      <td>0</td>\n",
       "      <td>0</td>\n",
       "      <td>0</td>\n",
       "      <td>0</td>\n",
       "      <td>0</td>\n",
       "      <td>0</td>\n",
       "      <td>0</td>\n",
       "      <td>0</td>\n",
       "      <td>0</td>\n",
       "      <td>123506</td>\n",
       "    </tr>\n",
       "  </tbody>\n",
       "</table>\n",
       "<p>5 rows × 27 columns</p>\n",
       "</div>"
      ],
      "text/plain": [
       "     month       state  permit  permit_recheck  handgun  long_gun  other  \\\n",
       "0  2017-09     Alabama   16717               0     5734      6320    221   \n",
       "1  2017-09      Alaska     209               2     2320      2930    219   \n",
       "2  2017-09     Arizona    5069             382    11063      7946    920   \n",
       "3  2017-09    Arkansas    2935             632     4347      6063    165   \n",
       "4  2017-09  California   57839               0    37165     24581   2984   \n",
       "\n",
       "   multiple  admin  prepawn_handgun   ...    returned_other  rentals_handgun  \\\n",
       "0       317      0               15   ...                 0                0   \n",
       "1       160      0                5   ...                 0                0   \n",
       "2       631      0               13   ...                 0                0   \n",
       "3       366     51               12   ...                 0                0   \n",
       "4         0      0                0   ...                 0                0   \n",
       "\n",
       "   rentals_long_gun  private_sale_handgun  private_sale_long_gun  \\\n",
       "0                 0                     9                     16   \n",
       "1                 0                    17                     24   \n",
       "2                 0                    38                     12   \n",
       "3                 0                    13                     23   \n",
       "4                 0                     0                      0   \n",
       "\n",
       "   private_sale_other  return_to_seller_handgun  return_to_seller_long_gun  \\\n",
       "0                   3                         0                          0   \n",
       "1                   1                         0                          0   \n",
       "2                   2                         0                          0   \n",
       "3                   0                         0                          2   \n",
       "4                   0                         0                          0   \n",
       "\n",
       "   return_to_seller_other  totals  \n",
       "0                       3   32019  \n",
       "1                       0    6303  \n",
       "2                       0   28394  \n",
       "3                       1   17747  \n",
       "4                       0  123506  \n",
       "\n",
       "[5 rows x 27 columns]"
      ]
     },
     "execution_count": 3,
     "metadata": {},
     "output_type": "execute_result"
    }
   ],
   "source": [
    "df_guncheck.head()"
   ]
  },
  {
   "cell_type": "code",
   "execution_count": 4,
   "metadata": {
    "collapsed": false
   },
   "outputs": [
    {
     "data": {
      "text/plain": [
       "(12485, 27)"
      ]
     },
     "execution_count": 4,
     "metadata": {},
     "output_type": "execute_result"
    }
   ],
   "source": [
    "df_guncheck.shape"
   ]
  },
  {
   "cell_type": "code",
   "execution_count": 5,
   "metadata": {
    "collapsed": false,
    "scrolled": true
   },
   "outputs": [
    {
     "name": "stdout",
     "output_type": "stream",
     "text": [
      "<class 'pandas.core.frame.DataFrame'>\n",
      "Int64Index: 12485 entries, 0 to 12484\n",
      "Data columns (total 27 columns):\n",
      "month                        12485 non-null object\n",
      "state                        12485 non-null object\n",
      "permit                       12461 non-null float64\n",
      "permit_recheck               1100 non-null float64\n",
      "handgun                      12465 non-null float64\n",
      "long_gun                     12466 non-null float64\n",
      "other                        5500 non-null float64\n",
      "multiple                     12485 non-null int64\n",
      "admin                        12462 non-null float64\n",
      "prepawn_handgun              10542 non-null float64\n",
      "prepawn_long_gun             10540 non-null float64\n",
      "prepawn_other                5115 non-null float64\n",
      "redemption_handgun           10545 non-null float64\n",
      "redemption_long_gun          10544 non-null float64\n",
      "redemption_other             5115 non-null float64\n",
      "returned_handgun             2200 non-null float64\n",
      "returned_long_gun            2145 non-null float64\n",
      "returned_other               1815 non-null float64\n",
      "rentals_handgun              990 non-null float64\n",
      "rentals_long_gun             825 non-null float64\n",
      "private_sale_handgun         2750 non-null float64\n",
      "private_sale_long_gun        2750 non-null float64\n",
      "private_sale_other           2750 non-null float64\n",
      "return_to_seller_handgun     2475 non-null float64\n",
      "return_to_seller_long_gun    2750 non-null float64\n",
      "return_to_seller_other       2255 non-null float64\n",
      "totals                       12485 non-null int64\n",
      "dtypes: float64(23), int64(2), object(2)\n",
      "memory usage: 2.7+ MB\n"
     ]
    }
   ],
   "source": [
    "df_guncheck.info()\n"
   ]
  },
  {
   "cell_type": "code",
   "execution_count": 7,
   "metadata": {
    "collapsed": false
   },
   "outputs": [
    {
     "data": {
      "text/plain": [
       "array(['Alabama', 'Alaska', 'Arizona', 'Arkansas', 'California',\n",
       "       'Colorado', 'Connecticut', 'Delaware', 'District of Columbia',\n",
       "       'Florida', 'Georgia', 'Guam', 'Hawaii', 'Idaho', 'Illinois',\n",
       "       'Indiana', 'Iowa', 'Kansas', 'Kentucky', 'Louisiana', 'Maine',\n",
       "       'Mariana Islands', 'Maryland', 'Massachusetts', 'Michigan',\n",
       "       'Minnesota', 'Mississippi', 'Missouri', 'Montana', 'Nebraska',\n",
       "       'Nevada', 'New Hampshire', 'New Jersey', 'New Mexico', 'New York',\n",
       "       'North Carolina', 'North Dakota', 'Ohio', 'Oklahoma', 'Oregon',\n",
       "       'Pennsylvania', 'Puerto Rico', 'Rhode Island', 'South Carolina',\n",
       "       'South Dakota', 'Tennessee', 'Texas', 'Utah', 'Vermont',\n",
       "       'Virgin Islands', 'Virginia', 'Washington', 'West Virginia',\n",
       "       'Wisconsin', 'Wyoming'], dtype=object)"
      ]
     },
     "execution_count": 7,
     "metadata": {},
     "output_type": "execute_result"
    }
   ],
   "source": [
    "df_guncheck.state.unique()"
   ]
  },
  {
   "cell_type": "code",
   "execution_count": 21,
   "metadata": {
    "collapsed": false
   },
   "outputs": [
    {
     "data": {
      "text/plain": [
       "month                            0\n",
       "state                            0\n",
       "permit                          24\n",
       "permit_recheck               11385\n",
       "handgun                         20\n",
       "long_gun                        19\n",
       "other                         6985\n",
       "multiple                         0\n",
       "admin                           23\n",
       "prepawn_handgun               1943\n",
       "prepawn_long_gun              1945\n",
       "prepawn_other                 7370\n",
       "redemption_handgun            1940\n",
       "redemption_long_gun           1941\n",
       "redemption_other              7370\n",
       "returned_handgun             10285\n",
       "returned_long_gun            10340\n",
       "returned_other               10670\n",
       "rentals_handgun              11495\n",
       "rentals_long_gun             11660\n",
       "private_sale_handgun          9735\n",
       "private_sale_long_gun         9735\n",
       "private_sale_other            9735\n",
       "return_to_seller_handgun     10010\n",
       "return_to_seller_long_gun     9735\n",
       "return_to_seller_other       10230\n",
       "totals                           0\n",
       "dtype: int64"
      ]
     },
     "execution_count": 21,
     "metadata": {},
     "output_type": "execute_result"
    }
   ],
   "source": [
    "#check for null values. Null values will be dealt with in the data cleaning section\n",
    "df_guncheck.isnull().sum()"
   ]
  },
  {
   "cell_type": "code",
   "execution_count": 31,
   "metadata": {
    "collapsed": false
   },
   "outputs": [
    {
     "data": {
      "text/plain": [
       "0"
      ]
     },
     "execution_count": 31,
     "metadata": {},
     "output_type": "execute_result"
    }
   ],
   "source": [
    "# check for duplicates\n",
    "df_guncheck.duplicated().sum()"
   ]
  },
  {
   "cell_type": "markdown",
   "metadata": {},
   "source": [
    "The background check data appears to contains 55 unique values for state, the 50 states and 5 territories. It also contains information about background checks for permit, permit rechecks,gun rentals and returns. For our analysis of total gun sales we will use the data for hand gun, long gun and other gun sales as well as private had gun, private long gun and private other gun sales.Note that several missing values for these variables. We will fill these missing values with 0 in the data cleaning section."
   ]
  },
  {
   "cell_type": "code",
   "execution_count": 4,
   "metadata": {
    "collapsed": false
   },
   "outputs": [
    {
     "data": {
      "text/html": [
       "<div>\n",
       "<table border=\"1\" class=\"dataframe\">\n",
       "  <thead>\n",
       "    <tr style=\"text-align: right;\">\n",
       "      <th></th>\n",
       "      <th>Fact</th>\n",
       "      <th>Fact Note</th>\n",
       "      <th>Alabama</th>\n",
       "      <th>Alaska</th>\n",
       "      <th>Arizona</th>\n",
       "      <th>Arkansas</th>\n",
       "      <th>California</th>\n",
       "      <th>Colorado</th>\n",
       "      <th>Connecticut</th>\n",
       "      <th>Delaware</th>\n",
       "      <th>...</th>\n",
       "      <th>South Dakota</th>\n",
       "      <th>Tennessee</th>\n",
       "      <th>Texas</th>\n",
       "      <th>Utah</th>\n",
       "      <th>Vermont</th>\n",
       "      <th>Virginia</th>\n",
       "      <th>Washington</th>\n",
       "      <th>West Virginia</th>\n",
       "      <th>Wisconsin</th>\n",
       "      <th>Wyoming</th>\n",
       "    </tr>\n",
       "  </thead>\n",
       "  <tbody>\n",
       "    <tr>\n",
       "      <th>0</th>\n",
       "      <td>Population estimates, July 1, 2016,  (V2016)</td>\n",
       "      <td>NaN</td>\n",
       "      <td>4,863,300</td>\n",
       "      <td>741,894</td>\n",
       "      <td>6,931,071</td>\n",
       "      <td>2,988,248</td>\n",
       "      <td>39,250,017</td>\n",
       "      <td>5,540,545</td>\n",
       "      <td>3,576,452</td>\n",
       "      <td>952,065</td>\n",
       "      <td>...</td>\n",
       "      <td>865454</td>\n",
       "      <td>6651194</td>\n",
       "      <td>27,862,596</td>\n",
       "      <td>3,051,217</td>\n",
       "      <td>624,594</td>\n",
       "      <td>8,411,808</td>\n",
       "      <td>7,288,000</td>\n",
       "      <td>1,831,102</td>\n",
       "      <td>5,778,708</td>\n",
       "      <td>585,501</td>\n",
       "    </tr>\n",
       "    <tr>\n",
       "      <th>1</th>\n",
       "      <td>Population estimates base, April 1, 2010,  (V2...</td>\n",
       "      <td>NaN</td>\n",
       "      <td>4,780,131</td>\n",
       "      <td>710,249</td>\n",
       "      <td>6,392,301</td>\n",
       "      <td>2,916,025</td>\n",
       "      <td>37,254,522</td>\n",
       "      <td>5,029,324</td>\n",
       "      <td>3,574,114</td>\n",
       "      <td>897,936</td>\n",
       "      <td>...</td>\n",
       "      <td>814195</td>\n",
       "      <td>6346298</td>\n",
       "      <td>25,146,100</td>\n",
       "      <td>2,763,888</td>\n",
       "      <td>625,741</td>\n",
       "      <td>8,001,041</td>\n",
       "      <td>6,724,545</td>\n",
       "      <td>1,853,011</td>\n",
       "      <td>5,687,289</td>\n",
       "      <td>563,767</td>\n",
       "    </tr>\n",
       "    <tr>\n",
       "      <th>2</th>\n",
       "      <td>Population, percent change - April 1, 2010 (es...</td>\n",
       "      <td>NaN</td>\n",
       "      <td>1.70%</td>\n",
       "      <td>4.50%</td>\n",
       "      <td>8.40%</td>\n",
       "      <td>2.50%</td>\n",
       "      <td>5.40%</td>\n",
       "      <td>10.20%</td>\n",
       "      <td>0.10%</td>\n",
       "      <td>6.00%</td>\n",
       "      <td>...</td>\n",
       "      <td>0.063</td>\n",
       "      <td>0.048</td>\n",
       "      <td>10.80%</td>\n",
       "      <td>10.40%</td>\n",
       "      <td>-0.20%</td>\n",
       "      <td>5.10%</td>\n",
       "      <td>8.40%</td>\n",
       "      <td>-1.20%</td>\n",
       "      <td>1.60%</td>\n",
       "      <td>3.90%</td>\n",
       "    </tr>\n",
       "    <tr>\n",
       "      <th>3</th>\n",
       "      <td>Population, Census, April 1, 2010</td>\n",
       "      <td>NaN</td>\n",
       "      <td>4,779,736</td>\n",
       "      <td>710,231</td>\n",
       "      <td>6,392,017</td>\n",
       "      <td>2,915,918</td>\n",
       "      <td>37,253,956</td>\n",
       "      <td>5,029,196</td>\n",
       "      <td>3,574,097</td>\n",
       "      <td>897,934</td>\n",
       "      <td>...</td>\n",
       "      <td>814180</td>\n",
       "      <td>6346105</td>\n",
       "      <td>25,145,561</td>\n",
       "      <td>2,763,885</td>\n",
       "      <td>625,741</td>\n",
       "      <td>8,001,024</td>\n",
       "      <td>6,724,540</td>\n",
       "      <td>1,852,994</td>\n",
       "      <td>5,686,986</td>\n",
       "      <td>563,626</td>\n",
       "    </tr>\n",
       "    <tr>\n",
       "      <th>4</th>\n",
       "      <td>Persons under 5 years, percent, July 1, 2016, ...</td>\n",
       "      <td>NaN</td>\n",
       "      <td>6.00%</td>\n",
       "      <td>7.30%</td>\n",
       "      <td>6.30%</td>\n",
       "      <td>6.40%</td>\n",
       "      <td>6.30%</td>\n",
       "      <td>6.10%</td>\n",
       "      <td>5.20%</td>\n",
       "      <td>5.80%</td>\n",
       "      <td>...</td>\n",
       "      <td>0.071</td>\n",
       "      <td>0.061</td>\n",
       "      <td>7.20%</td>\n",
       "      <td>8.30%</td>\n",
       "      <td>4.90%</td>\n",
       "      <td>6.10%</td>\n",
       "      <td>6.20%</td>\n",
       "      <td>5.50%</td>\n",
       "      <td>5.80%</td>\n",
       "      <td>6.50%</td>\n",
       "    </tr>\n",
       "  </tbody>\n",
       "</table>\n",
       "<p>5 rows × 52 columns</p>\n",
       "</div>"
      ],
      "text/plain": [
       "                                                Fact Fact Note    Alabama  \\\n",
       "0       Population estimates, July 1, 2016,  (V2016)       NaN  4,863,300   \n",
       "1  Population estimates base, April 1, 2010,  (V2...       NaN  4,780,131   \n",
       "2  Population, percent change - April 1, 2010 (es...       NaN      1.70%   \n",
       "3                  Population, Census, April 1, 2010       NaN  4,779,736   \n",
       "4  Persons under 5 years, percent, July 1, 2016, ...       NaN      6.00%   \n",
       "\n",
       "    Alaska    Arizona   Arkansas  California   Colorado Connecticut Delaware  \\\n",
       "0  741,894  6,931,071  2,988,248  39,250,017  5,540,545   3,576,452  952,065   \n",
       "1  710,249  6,392,301  2,916,025  37,254,522  5,029,324   3,574,114  897,936   \n",
       "2    4.50%      8.40%      2.50%       5.40%     10.20%       0.10%    6.00%   \n",
       "3  710,231  6,392,017  2,915,918  37,253,956  5,029,196   3,574,097  897,934   \n",
       "4    7.30%      6.30%      6.40%       6.30%      6.10%       5.20%    5.80%   \n",
       "\n",
       "    ...    South Dakota Tennessee       Texas       Utah  Vermont   Virginia  \\\n",
       "0   ...          865454   6651194  27,862,596  3,051,217  624,594  8,411,808   \n",
       "1   ...          814195   6346298  25,146,100  2,763,888  625,741  8,001,041   \n",
       "2   ...           0.063     0.048      10.80%     10.40%   -0.20%      5.10%   \n",
       "3   ...          814180   6346105  25,145,561  2,763,885  625,741  8,001,024   \n",
       "4   ...           0.071     0.061       7.20%      8.30%    4.90%      6.10%   \n",
       "\n",
       "  Washington West Virginia  Wisconsin  Wyoming  \n",
       "0  7,288,000     1,831,102  5,778,708  585,501  \n",
       "1  6,724,545     1,853,011  5,687,289  563,767  \n",
       "2      8.40%        -1.20%      1.60%    3.90%  \n",
       "3  6,724,540     1,852,994  5,686,986  563,626  \n",
       "4      6.20%         5.50%      5.80%    6.50%  \n",
       "\n",
       "[5 rows x 52 columns]"
      ]
     },
     "execution_count": 4,
     "metadata": {},
     "output_type": "execute_result"
    }
   ],
   "source": [
    "#Load the census data\n",
    "df_census=pd.read_csv('U.S. Census Data.csv')\n",
    "df_census.head(5)"
   ]
  },
  {
   "cell_type": "code",
   "execution_count": 36,
   "metadata": {
    "collapsed": false
   },
   "outputs": [
    {
     "data": {
      "text/html": [
       "<div>\n",
       "<table border=\"1\" class=\"dataframe\">\n",
       "  <thead>\n",
       "    <tr style=\"text-align: right;\">\n",
       "      <th></th>\n",
       "      <th>Fact</th>\n",
       "      <th>Fact Note</th>\n",
       "      <th>Alabama</th>\n",
       "      <th>Alaska</th>\n",
       "      <th>Arizona</th>\n",
       "      <th>Arkansas</th>\n",
       "      <th>California</th>\n",
       "      <th>Colorado</th>\n",
       "      <th>Connecticut</th>\n",
       "      <th>Delaware</th>\n",
       "      <th>...</th>\n",
       "      <th>South Dakota</th>\n",
       "      <th>Tennessee</th>\n",
       "      <th>Texas</th>\n",
       "      <th>Utah</th>\n",
       "      <th>Vermont</th>\n",
       "      <th>Virginia</th>\n",
       "      <th>Washington</th>\n",
       "      <th>West Virginia</th>\n",
       "      <th>Wisconsin</th>\n",
       "      <th>Wyoming</th>\n",
       "    </tr>\n",
       "  </thead>\n",
       "  <tbody>\n",
       "    <tr>\n",
       "      <th>80</th>\n",
       "      <td>FN</td>\n",
       "      <td>Footnote on this item in place of data</td>\n",
       "      <td>NaN</td>\n",
       "      <td>NaN</td>\n",
       "      <td>NaN</td>\n",
       "      <td>NaN</td>\n",
       "      <td>NaN</td>\n",
       "      <td>NaN</td>\n",
       "      <td>NaN</td>\n",
       "      <td>NaN</td>\n",
       "      <td>...</td>\n",
       "      <td>NaN</td>\n",
       "      <td>NaN</td>\n",
       "      <td>NaN</td>\n",
       "      <td>NaN</td>\n",
       "      <td>NaN</td>\n",
       "      <td>NaN</td>\n",
       "      <td>NaN</td>\n",
       "      <td>NaN</td>\n",
       "      <td>NaN</td>\n",
       "      <td>NaN</td>\n",
       "    </tr>\n",
       "    <tr>\n",
       "      <th>81</th>\n",
       "      <td>NaN</td>\n",
       "      <td>Not available</td>\n",
       "      <td>NaN</td>\n",
       "      <td>NaN</td>\n",
       "      <td>NaN</td>\n",
       "      <td>NaN</td>\n",
       "      <td>NaN</td>\n",
       "      <td>NaN</td>\n",
       "      <td>NaN</td>\n",
       "      <td>NaN</td>\n",
       "      <td>...</td>\n",
       "      <td>NaN</td>\n",
       "      <td>NaN</td>\n",
       "      <td>NaN</td>\n",
       "      <td>NaN</td>\n",
       "      <td>NaN</td>\n",
       "      <td>NaN</td>\n",
       "      <td>NaN</td>\n",
       "      <td>NaN</td>\n",
       "      <td>NaN</td>\n",
       "      <td>NaN</td>\n",
       "    </tr>\n",
       "    <tr>\n",
       "      <th>82</th>\n",
       "      <td>S</td>\n",
       "      <td>Suppressed; does not meet publication standards</td>\n",
       "      <td>NaN</td>\n",
       "      <td>NaN</td>\n",
       "      <td>NaN</td>\n",
       "      <td>NaN</td>\n",
       "      <td>NaN</td>\n",
       "      <td>NaN</td>\n",
       "      <td>NaN</td>\n",
       "      <td>NaN</td>\n",
       "      <td>...</td>\n",
       "      <td>NaN</td>\n",
       "      <td>NaN</td>\n",
       "      <td>NaN</td>\n",
       "      <td>NaN</td>\n",
       "      <td>NaN</td>\n",
       "      <td>NaN</td>\n",
       "      <td>NaN</td>\n",
       "      <td>NaN</td>\n",
       "      <td>NaN</td>\n",
       "      <td>NaN</td>\n",
       "    </tr>\n",
       "    <tr>\n",
       "      <th>83</th>\n",
       "      <td>X</td>\n",
       "      <td>Not applicable</td>\n",
       "      <td>NaN</td>\n",
       "      <td>NaN</td>\n",
       "      <td>NaN</td>\n",
       "      <td>NaN</td>\n",
       "      <td>NaN</td>\n",
       "      <td>NaN</td>\n",
       "      <td>NaN</td>\n",
       "      <td>NaN</td>\n",
       "      <td>...</td>\n",
       "      <td>NaN</td>\n",
       "      <td>NaN</td>\n",
       "      <td>NaN</td>\n",
       "      <td>NaN</td>\n",
       "      <td>NaN</td>\n",
       "      <td>NaN</td>\n",
       "      <td>NaN</td>\n",
       "      <td>NaN</td>\n",
       "      <td>NaN</td>\n",
       "      <td>NaN</td>\n",
       "    </tr>\n",
       "    <tr>\n",
       "      <th>84</th>\n",
       "      <td>Z</td>\n",
       "      <td>Value greater than zero but less than half uni...</td>\n",
       "      <td>NaN</td>\n",
       "      <td>NaN</td>\n",
       "      <td>NaN</td>\n",
       "      <td>NaN</td>\n",
       "      <td>NaN</td>\n",
       "      <td>NaN</td>\n",
       "      <td>NaN</td>\n",
       "      <td>NaN</td>\n",
       "      <td>...</td>\n",
       "      <td>NaN</td>\n",
       "      <td>NaN</td>\n",
       "      <td>NaN</td>\n",
       "      <td>NaN</td>\n",
       "      <td>NaN</td>\n",
       "      <td>NaN</td>\n",
       "      <td>NaN</td>\n",
       "      <td>NaN</td>\n",
       "      <td>NaN</td>\n",
       "      <td>NaN</td>\n",
       "    </tr>\n",
       "  </tbody>\n",
       "</table>\n",
       "<p>5 rows × 52 columns</p>\n",
       "</div>"
      ],
      "text/plain": [
       "   Fact                                          Fact Note Alabama Alaska  \\\n",
       "80   FN             Footnote on this item in place of data     NaN    NaN   \n",
       "81  NaN                                      Not available     NaN    NaN   \n",
       "82    S    Suppressed; does not meet publication standards     NaN    NaN   \n",
       "83    X                                     Not applicable     NaN    NaN   \n",
       "84    Z  Value greater than zero but less than half uni...     NaN    NaN   \n",
       "\n",
       "   Arizona Arkansas California Colorado Connecticut Delaware   ...    \\\n",
       "80     NaN      NaN        NaN      NaN         NaN      NaN   ...     \n",
       "81     NaN      NaN        NaN      NaN         NaN      NaN   ...     \n",
       "82     NaN      NaN        NaN      NaN         NaN      NaN   ...     \n",
       "83     NaN      NaN        NaN      NaN         NaN      NaN   ...     \n",
       "84     NaN      NaN        NaN      NaN         NaN      NaN   ...     \n",
       "\n",
       "   South Dakota Tennessee Texas Utah Vermont Virginia Washington  \\\n",
       "80          NaN       NaN   NaN  NaN     NaN      NaN        NaN   \n",
       "81          NaN       NaN   NaN  NaN     NaN      NaN        NaN   \n",
       "82          NaN       NaN   NaN  NaN     NaN      NaN        NaN   \n",
       "83          NaN       NaN   NaN  NaN     NaN      NaN        NaN   \n",
       "84          NaN       NaN   NaN  NaN     NaN      NaN        NaN   \n",
       "\n",
       "   West Virginia Wisconsin Wyoming  \n",
       "80           NaN       NaN     NaN  \n",
       "81           NaN       NaN     NaN  \n",
       "82           NaN       NaN     NaN  \n",
       "83           NaN       NaN     NaN  \n",
       "84           NaN       NaN     NaN  \n",
       "\n",
       "[5 rows x 52 columns]"
      ]
     },
     "execution_count": 36,
     "metadata": {},
     "output_type": "execute_result"
    }
   ],
   "source": [
    "df_census.tail(5)"
   ]
  },
  {
   "cell_type": "code",
   "execution_count": 37,
   "metadata": {
    "collapsed": false
   },
   "outputs": [
    {
     "data": {
      "text/plain": [
       "Index(['Fact', 'Fact Note', 'Alabama', 'Alaska', 'Arizona', 'Arkansas',\n",
       "       'California', 'Colorado', 'Connecticut', 'Delaware', 'Florida',\n",
       "       'Georgia', 'Hawaii', 'Idaho', 'Illinois', 'Indiana', 'Iowa', 'Kansas',\n",
       "       'Kentucky', 'Louisiana', 'Maine', 'Maryland', 'Massachusetts',\n",
       "       'Michigan', 'Minnesota', 'Mississippi', 'Missouri', 'Montana',\n",
       "       'Nebraska', 'Nevada', 'New Hampshire', 'New Jersey', 'New Mexico',\n",
       "       'New York', 'North Carolina', 'North Dakota', 'Ohio', 'Oklahoma',\n",
       "       'Oregon', 'Pennsylvania', 'Rhode Island', 'South Carolina',\n",
       "       'South Dakota', 'Tennessee', 'Texas', 'Utah', 'Vermont', 'Virginia',\n",
       "       'Washington', 'West Virginia', 'Wisconsin', 'Wyoming'],\n",
       "      dtype='object')"
      ]
     },
     "execution_count": 37,
     "metadata": {},
     "output_type": "execute_result"
    }
   ],
   "source": [
    "df_census.columns"
   ]
  },
  {
   "cell_type": "code",
   "execution_count": 5,
   "metadata": {
    "collapsed": false
   },
   "outputs": [
    {
     "data": {
      "text/plain": [
       "0                                                   NaN\n",
       "1                                                   NaN\n",
       "2                                                   NaN\n",
       "3                                                   NaN\n",
       "4                                                   NaN\n",
       "5                                                   NaN\n",
       "6                                                   NaN\n",
       "7                                                   NaN\n",
       "8                                                   NaN\n",
       "9                                                   NaN\n",
       "10                                                  NaN\n",
       "11                                                  NaN\n",
       "12                                                  (a)\n",
       "13                                                  (a)\n",
       "14                                                  (a)\n",
       "15                                                  (a)\n",
       "16                                                  (a)\n",
       "17                                                  NaN\n",
       "18                                                  (b)\n",
       "19                                                  NaN\n",
       "20                                                  NaN\n",
       "21                                                  NaN\n",
       "22                                                  NaN\n",
       "23                                                  NaN\n",
       "24                                                  NaN\n",
       "25                                                  NaN\n",
       "26                                                  NaN\n",
       "27                                                  NaN\n",
       "28                                                  NaN\n",
       "29                                                  NaN\n",
       "                            ...                        \n",
       "55                                                  NaN\n",
       "56                                                  NaN\n",
       "57                                                  NaN\n",
       "58                                                  NaN\n",
       "59                                                  NaN\n",
       "60                                                  NaN\n",
       "61                                                  NaN\n",
       "62                                                  NaN\n",
       "63                                                  NaN\n",
       "64                                                  NaN\n",
       "65                                                  NaN\n",
       "66                                                  NaN\n",
       "67                                                  NaN\n",
       "68                                                  NaN\n",
       "69             Includes data not distributed by county.\n",
       "70                                                  NaN\n",
       "71                                                  NaN\n",
       "72             Includes persons reporting only one race\n",
       "73    Hispanics may be of any race, so also are incl...\n",
       "74    Economic Census - Puerto Rico data are not com...\n",
       "75                                                  NaN\n",
       "76                                                  NaN\n",
       "77    Either no or too few sample observations were ...\n",
       "78    Suppressed to avoid disclosure of confidential...\n",
       "79                                  Fewer than 25 firms\n",
       "80               Footnote on this item in place of data\n",
       "81                                        Not available\n",
       "82      Suppressed; does not meet publication standards\n",
       "83                                       Not applicable\n",
       "84    Value greater than zero but less than half uni...\n",
       "Name: Fact Note, dtype: object"
      ]
     },
     "execution_count": 5,
     "metadata": {},
     "output_type": "execute_result"
    }
   ],
   "source": [
    "df_census['Fact Note']"
   ]
  },
  {
   "cell_type": "markdown",
   "metadata": {},
   "source": [
    "The census data has 52 columns, 50 of which are one for each state. The column fact contains the population statistics that were collected and Fact note conatains additional information for that statistic. We are going to drop the Fact Note column and transpose the dataframe so that each state accounts for one observation of a population statistic."
   ]
  },
  {
   "cell_type": "code",
   "execution_count": 6,
   "metadata": {
    "collapsed": true
   },
   "outputs": [],
   "source": [
    "df_census.drop('Fact Note',inplace=True,axis=1)"
   ]
  },
  {
   "cell_type": "code",
   "execution_count": 7,
   "metadata": {
    "collapsed": false
   },
   "outputs": [
    {
     "data": {
      "text/html": [
       "<div>\n",
       "<table border=\"1\" class=\"dataframe\">\n",
       "  <thead>\n",
       "    <tr style=\"text-align: right;\">\n",
       "      <th>Fact</th>\n",
       "      <th>Population estimates, July 1, 2016,  (V2016)</th>\n",
       "      <th>Population estimates base, April 1, 2010,  (V2016)</th>\n",
       "      <th>Population, percent change - April 1, 2010 (estimates base) to July 1, 2016,  (V2016)</th>\n",
       "      <th>Population, Census, April 1, 2010</th>\n",
       "      <th>Persons under 5 years, percent, July 1, 2016,  (V2016)</th>\n",
       "      <th>Persons under 5 years, percent, April 1, 2010</th>\n",
       "      <th>Persons under 18 years, percent, July 1, 2016,  (V2016)</th>\n",
       "      <th>Persons under 18 years, percent, April 1, 2010</th>\n",
       "      <th>Persons 65 years and over, percent,  July 1, 2016,  (V2016)</th>\n",
       "      <th>Persons 65 years and over, percent, April 1, 2010</th>\n",
       "      <th>...</th>\n",
       "      <th>nan</th>\n",
       "      <th>Value Flags</th>\n",
       "      <th>-</th>\n",
       "      <th>D</th>\n",
       "      <th>F</th>\n",
       "      <th>FN</th>\n",
       "      <th>nan</th>\n",
       "      <th>S</th>\n",
       "      <th>X</th>\n",
       "      <th>Z</th>\n",
       "    </tr>\n",
       "  </thead>\n",
       "  <tbody>\n",
       "    <tr>\n",
       "      <th>Alabama</th>\n",
       "      <td>4,863,300</td>\n",
       "      <td>4,780,131</td>\n",
       "      <td>1.70%</td>\n",
       "      <td>4,779,736</td>\n",
       "      <td>6.00%</td>\n",
       "      <td>6.40%</td>\n",
       "      <td>22.60%</td>\n",
       "      <td>23.70%</td>\n",
       "      <td>16.10%</td>\n",
       "      <td>13.80%</td>\n",
       "      <td>...</td>\n",
       "      <td>NaN</td>\n",
       "      <td>NaN</td>\n",
       "      <td>NaN</td>\n",
       "      <td>NaN</td>\n",
       "      <td>NaN</td>\n",
       "      <td>NaN</td>\n",
       "      <td>NaN</td>\n",
       "      <td>NaN</td>\n",
       "      <td>NaN</td>\n",
       "      <td>NaN</td>\n",
       "    </tr>\n",
       "    <tr>\n",
       "      <th>Alaska</th>\n",
       "      <td>741,894</td>\n",
       "      <td>710,249</td>\n",
       "      <td>4.50%</td>\n",
       "      <td>710,231</td>\n",
       "      <td>7.30%</td>\n",
       "      <td>7.60%</td>\n",
       "      <td>25.20%</td>\n",
       "      <td>26.40%</td>\n",
       "      <td>10.40%</td>\n",
       "      <td>7.70%</td>\n",
       "      <td>...</td>\n",
       "      <td>NaN</td>\n",
       "      <td>NaN</td>\n",
       "      <td>NaN</td>\n",
       "      <td>NaN</td>\n",
       "      <td>NaN</td>\n",
       "      <td>NaN</td>\n",
       "      <td>NaN</td>\n",
       "      <td>NaN</td>\n",
       "      <td>NaN</td>\n",
       "      <td>NaN</td>\n",
       "    </tr>\n",
       "    <tr>\n",
       "      <th>Arizona</th>\n",
       "      <td>6,931,071</td>\n",
       "      <td>6,392,301</td>\n",
       "      <td>8.40%</td>\n",
       "      <td>6,392,017</td>\n",
       "      <td>6.30%</td>\n",
       "      <td>7.10%</td>\n",
       "      <td>23.50%</td>\n",
       "      <td>25.50%</td>\n",
       "      <td>16.90%</td>\n",
       "      <td>13.80%</td>\n",
       "      <td>...</td>\n",
       "      <td>NaN</td>\n",
       "      <td>NaN</td>\n",
       "      <td>NaN</td>\n",
       "      <td>NaN</td>\n",
       "      <td>NaN</td>\n",
       "      <td>NaN</td>\n",
       "      <td>NaN</td>\n",
       "      <td>NaN</td>\n",
       "      <td>NaN</td>\n",
       "      <td>NaN</td>\n",
       "    </tr>\n",
       "    <tr>\n",
       "      <th>Arkansas</th>\n",
       "      <td>2,988,248</td>\n",
       "      <td>2,916,025</td>\n",
       "      <td>2.50%</td>\n",
       "      <td>2,915,918</td>\n",
       "      <td>6.40%</td>\n",
       "      <td>6.80%</td>\n",
       "      <td>23.60%</td>\n",
       "      <td>24.40%</td>\n",
       "      <td>16.30%</td>\n",
       "      <td>14.40%</td>\n",
       "      <td>...</td>\n",
       "      <td>NaN</td>\n",
       "      <td>NaN</td>\n",
       "      <td>NaN</td>\n",
       "      <td>NaN</td>\n",
       "      <td>NaN</td>\n",
       "      <td>NaN</td>\n",
       "      <td>NaN</td>\n",
       "      <td>NaN</td>\n",
       "      <td>NaN</td>\n",
       "      <td>NaN</td>\n",
       "    </tr>\n",
       "    <tr>\n",
       "      <th>California</th>\n",
       "      <td>39,250,017</td>\n",
       "      <td>37,254,522</td>\n",
       "      <td>5.40%</td>\n",
       "      <td>37,253,956</td>\n",
       "      <td>6.30%</td>\n",
       "      <td>6.80%</td>\n",
       "      <td>23.20%</td>\n",
       "      <td>25.00%</td>\n",
       "      <td>13.60%</td>\n",
       "      <td>11.40%</td>\n",
       "      <td>...</td>\n",
       "      <td>NaN</td>\n",
       "      <td>NaN</td>\n",
       "      <td>NaN</td>\n",
       "      <td>NaN</td>\n",
       "      <td>NaN</td>\n",
       "      <td>NaN</td>\n",
       "      <td>NaN</td>\n",
       "      <td>NaN</td>\n",
       "      <td>NaN</td>\n",
       "      <td>NaN</td>\n",
       "    </tr>\n",
       "  </tbody>\n",
       "</table>\n",
       "<p>5 rows × 85 columns</p>\n",
       "</div>"
      ],
      "text/plain": [
       "Fact       Population estimates, July 1, 2016,  (V2016)  \\\n",
       "Alabama                                       4,863,300   \n",
       "Alaska                                          741,894   \n",
       "Arizona                                       6,931,071   \n",
       "Arkansas                                      2,988,248   \n",
       "California                                   39,250,017   \n",
       "\n",
       "Fact       Population estimates base, April 1, 2010,  (V2016)  \\\n",
       "Alabama                                             4,780,131   \n",
       "Alaska                                                710,249   \n",
       "Arizona                                             6,392,301   \n",
       "Arkansas                                            2,916,025   \n",
       "California                                         37,254,522   \n",
       "\n",
       "Fact       Population, percent change - April 1, 2010 (estimates base) to July 1, 2016,  (V2016)  \\\n",
       "Alabama                                                 1.70%                                      \n",
       "Alaska                                                  4.50%                                      \n",
       "Arizona                                                 8.40%                                      \n",
       "Arkansas                                                2.50%                                      \n",
       "California                                              5.40%                                      \n",
       "\n",
       "Fact       Population, Census, April 1, 2010  \\\n",
       "Alabama                            4,779,736   \n",
       "Alaska                               710,231   \n",
       "Arizona                            6,392,017   \n",
       "Arkansas                           2,915,918   \n",
       "California                        37,253,956   \n",
       "\n",
       "Fact       Persons under 5 years, percent, July 1, 2016,  (V2016)  \\\n",
       "Alabama                                                 6.00%       \n",
       "Alaska                                                  7.30%       \n",
       "Arizona                                                 6.30%       \n",
       "Arkansas                                                6.40%       \n",
       "California                                              6.30%       \n",
       "\n",
       "Fact       Persons under 5 years, percent, April 1, 2010  \\\n",
       "Alabama                                            6.40%   \n",
       "Alaska                                             7.60%   \n",
       "Arizona                                            7.10%   \n",
       "Arkansas                                           6.80%   \n",
       "California                                         6.80%   \n",
       "\n",
       "Fact       Persons under 18 years, percent, July 1, 2016,  (V2016)  \\\n",
       "Alabama                                                22.60%        \n",
       "Alaska                                                 25.20%        \n",
       "Arizona                                                23.50%        \n",
       "Arkansas                                               23.60%        \n",
       "California                                             23.20%        \n",
       "\n",
       "Fact       Persons under 18 years, percent, April 1, 2010  \\\n",
       "Alabama                                            23.70%   \n",
       "Alaska                                             26.40%   \n",
       "Arizona                                            25.50%   \n",
       "Arkansas                                           24.40%   \n",
       "California                                         25.00%   \n",
       "\n",
       "Fact       Persons 65 years and over, percent,  July 1, 2016,  (V2016)  \\\n",
       "Alabama                                                16.10%            \n",
       "Alaska                                                 10.40%            \n",
       "Arizona                                                16.90%            \n",
       "Arkansas                                               16.30%            \n",
       "California                                             13.60%            \n",
       "\n",
       "Fact       Persons 65 years and over, percent, April 1, 2010 ...   NaN  \\\n",
       "Alabama                                               13.80% ...   NaN   \n",
       "Alaska                                                 7.70% ...   NaN   \n",
       "Arizona                                               13.80% ...   NaN   \n",
       "Arkansas                                              14.40% ...   NaN   \n",
       "California                                            11.40% ...   NaN   \n",
       "\n",
       "Fact       Value Flags    -    D    F   FN  NaN    S    X    Z  \n",
       "Alabama            NaN  NaN  NaN  NaN  NaN  NaN  NaN  NaN  NaN  \n",
       "Alaska             NaN  NaN  NaN  NaN  NaN  NaN  NaN  NaN  NaN  \n",
       "Arizona            NaN  NaN  NaN  NaN  NaN  NaN  NaN  NaN  NaN  \n",
       "Arkansas           NaN  NaN  NaN  NaN  NaN  NaN  NaN  NaN  NaN  \n",
       "California         NaN  NaN  NaN  NaN  NaN  NaN  NaN  NaN  NaN  \n",
       "\n",
       "[5 rows x 85 columns]"
      ]
     },
     "execution_count": 7,
     "metadata": {},
     "output_type": "execute_result"
    }
   ],
   "source": [
    "#Find the transpose of the dataframe\n",
    "df_census.set_index('Fact',inplace=True)\n",
    "df_census_t=df_census.transpose()\n",
    "df_census_t.head()"
   ]
  },
  {
   "cell_type": "markdown",
   "metadata": {},
   "source": [
    "\n",
    "\n",
    "### Data Cleaning\n",
    "\n",
    "Census data: For calculating the percapita gun sales we need the population estimates for 2010 and 2016. We can drop the rest of the columns. Also note that the population estimates are stored as type str and the numbers are comma seperated. We need to convert these to floats to perform numeric operations on them.\n",
    "\n",
    "Gun data: We only need to keep the columns pertaining to gun sales and drop the rest of the columns\n"
   ]
  },
  {
   "cell_type": "code",
   "execution_count": null,
   "metadata": {
    "collapsed": true
   },
   "outputs": [],
   "source": []
  },
  {
   "cell_type": "code",
   "execution_count": 8,
   "metadata": {
    "collapsed": true
   },
   "outputs": [],
   "source": [
    "#drop all columns except the first two columns\n",
    "cols_to_drop=df_census_t.columns[2:]\n",
    "df_pop=df_census_t.drop(cols_to_drop,axis=1)"
   ]
  },
  {
   "cell_type": "code",
   "execution_count": 9,
   "metadata": {
    "collapsed": false
   },
   "outputs": [
    {
     "data": {
      "text/html": [
       "<div>\n",
       "<table border=\"1\" class=\"dataframe\">\n",
       "  <thead>\n",
       "    <tr style=\"text-align: right;\">\n",
       "      <th>Fact</th>\n",
       "      <th>index</th>\n",
       "      <th>Population estimates, July 1, 2016,  (V2016)</th>\n",
       "      <th>Population estimates base, April 1, 2010,  (V2016)</th>\n",
       "    </tr>\n",
       "  </thead>\n",
       "  <tbody>\n",
       "    <tr>\n",
       "      <th>0</th>\n",
       "      <td>Alabama</td>\n",
       "      <td>4,863,300</td>\n",
       "      <td>4,780,131</td>\n",
       "    </tr>\n",
       "    <tr>\n",
       "      <th>1</th>\n",
       "      <td>Alaska</td>\n",
       "      <td>741,894</td>\n",
       "      <td>710,249</td>\n",
       "    </tr>\n",
       "    <tr>\n",
       "      <th>2</th>\n",
       "      <td>Arizona</td>\n",
       "      <td>6,931,071</td>\n",
       "      <td>6,392,301</td>\n",
       "    </tr>\n",
       "    <tr>\n",
       "      <th>3</th>\n",
       "      <td>Arkansas</td>\n",
       "      <td>2,988,248</td>\n",
       "      <td>2,916,025</td>\n",
       "    </tr>\n",
       "    <tr>\n",
       "      <th>4</th>\n",
       "      <td>California</td>\n",
       "      <td>39,250,017</td>\n",
       "      <td>37,254,522</td>\n",
       "    </tr>\n",
       "  </tbody>\n",
       "</table>\n",
       "</div>"
      ],
      "text/plain": [
       "Fact       index Population estimates, July 1, 2016,  (V2016)  \\\n",
       "0        Alabama                                    4,863,300   \n",
       "1         Alaska                                      741,894   \n",
       "2        Arizona                                    6,931,071   \n",
       "3       Arkansas                                    2,988,248   \n",
       "4     California                                   39,250,017   \n",
       "\n",
       "Fact Population estimates base, April 1, 2010,  (V2016)  \n",
       "0                                             4,780,131  \n",
       "1                                               710,249  \n",
       "2                                             6,392,301  \n",
       "3                                             2,916,025  \n",
       "4                                            37,254,522  "
      ]
     },
     "execution_count": 9,
     "metadata": {},
     "output_type": "execute_result"
    }
   ],
   "source": [
    "#reset the index and save it as a new column.\n",
    "df_pop_c=df_pop.reset_index(col_level=1,col_fill='state')\n",
    "df_pop_c.head()"
   ]
  },
  {
   "cell_type": "code",
   "execution_count": 10,
   "metadata": {
    "collapsed": false
   },
   "outputs": [
    {
     "name": "stdout",
     "output_type": "stream",
     "text": [
      "<class 'pandas.core.frame.DataFrame'>\n",
      "Int64Index: 50 entries, 0 to 49\n",
      "Data columns (total 3 columns):\n",
      "index                                                 50 non-null object\n",
      "Population estimates, July 1, 2016,  (V2016)          50 non-null object\n",
      "Population estimates base, April 1, 2010,  (V2016)    50 non-null object\n",
      "dtypes: object(3)\n",
      "memory usage: 1.6+ KB\n"
     ]
    }
   ],
   "source": [
    "#check for missing data\n",
    "df_pop_c.info()"
   ]
  },
  {
   "cell_type": "code",
   "execution_count": 11,
   "metadata": {
    "collapsed": false
   },
   "outputs": [
    {
     "data": {
      "text/plain": [
       "Index(['state', 'population_estimates_2016', 'population_estimates_2010'], dtype='object', name='Fact')"
      ]
     },
     "execution_count": 11,
     "metadata": {},
     "output_type": "execute_result"
    }
   ],
   "source": [
    "#rename the columns and save it in a new dataframe df_pop_cleaned\n",
    "df_pop_cleaned=df_pop_c.rename(columns={'index':'state','Population estimates, July 1, 2016,  (V2016)':'population_estimates_2016',\n",
    "                                       'Population estimates base, April 1, 2010,  (V2016)':'population_estimates_2010'})\n",
    "df_pop_cleaned.columns"
   ]
  },
  {
   "cell_type": "code",
   "execution_count": 12,
   "metadata": {
    "collapsed": false
   },
   "outputs": [
    {
     "data": {
      "text/html": [
       "<div>\n",
       "<table border=\"1\" class=\"dataframe\">\n",
       "  <thead>\n",
       "    <tr style=\"text-align: right;\">\n",
       "      <th>Fact</th>\n",
       "      <th>state</th>\n",
       "      <th>population_estimates_2016</th>\n",
       "      <th>population_estimates_2010</th>\n",
       "    </tr>\n",
       "  </thead>\n",
       "  <tbody>\n",
       "    <tr>\n",
       "      <th>0</th>\n",
       "      <td>Alabama</td>\n",
       "      <td>4863300</td>\n",
       "      <td>4780131</td>\n",
       "    </tr>\n",
       "    <tr>\n",
       "      <th>1</th>\n",
       "      <td>Alaska</td>\n",
       "      <td>741894</td>\n",
       "      <td>710249</td>\n",
       "    </tr>\n",
       "    <tr>\n",
       "      <th>2</th>\n",
       "      <td>Arizona</td>\n",
       "      <td>6931071</td>\n",
       "      <td>6392301</td>\n",
       "    </tr>\n",
       "    <tr>\n",
       "      <th>3</th>\n",
       "      <td>Arkansas</td>\n",
       "      <td>2988248</td>\n",
       "      <td>2916025</td>\n",
       "    </tr>\n",
       "    <tr>\n",
       "      <th>4</th>\n",
       "      <td>California</td>\n",
       "      <td>39250017</td>\n",
       "      <td>37254522</td>\n",
       "    </tr>\n",
       "  </tbody>\n",
       "</table>\n",
       "</div>"
      ],
      "text/plain": [
       "Fact       state  population_estimates_2016  population_estimates_2010\n",
       "0        Alabama                    4863300                    4780131\n",
       "1         Alaska                     741894                     710249\n",
       "2        Arizona                    6931071                    6392301\n",
       "3       Arkansas                    2988248                    2916025\n",
       "4     California                   39250017                   37254522"
      ]
     },
     "execution_count": 12,
     "metadata": {},
     "output_type": "execute_result"
    }
   ],
   "source": [
    "#replace the ',' from the string and convert it to type float\n",
    "df_pop_cleaned['population_estimates_2016'] = df_pop_cleaned['population_estimates_2016'].str.replace(',','').astype(float)\n",
    "df_pop_cleaned['population_estimates_2010'] = df_pop_cleaned['population_estimates_2010'].str.replace(',','').astype(float)\n",
    "df_pop_cleaned.head()"
   ]
  },
  {
   "cell_type": "code",
   "execution_count": 13,
   "metadata": {
    "collapsed": false
   },
   "outputs": [
    {
     "data": {
      "text/html": [
       "<div>\n",
       "<table border=\"1\" class=\"dataframe\">\n",
       "  <thead>\n",
       "    <tr style=\"text-align: right;\">\n",
       "      <th></th>\n",
       "      <th>month</th>\n",
       "      <th>state</th>\n",
       "      <th>handgun</th>\n",
       "      <th>long_gun</th>\n",
       "      <th>other</th>\n",
       "      <th>private_sale_handgun</th>\n",
       "      <th>private_sale_long_gun</th>\n",
       "      <th>private_sale_other</th>\n",
       "    </tr>\n",
       "  </thead>\n",
       "  <tbody>\n",
       "    <tr>\n",
       "      <th>0</th>\n",
       "      <td>2017-09</td>\n",
       "      <td>Alabama</td>\n",
       "      <td>5734</td>\n",
       "      <td>6320</td>\n",
       "      <td>221</td>\n",
       "      <td>9</td>\n",
       "      <td>16</td>\n",
       "      <td>3</td>\n",
       "    </tr>\n",
       "    <tr>\n",
       "      <th>1</th>\n",
       "      <td>2017-09</td>\n",
       "      <td>Alaska</td>\n",
       "      <td>2320</td>\n",
       "      <td>2930</td>\n",
       "      <td>219</td>\n",
       "      <td>17</td>\n",
       "      <td>24</td>\n",
       "      <td>1</td>\n",
       "    </tr>\n",
       "    <tr>\n",
       "      <th>2</th>\n",
       "      <td>2017-09</td>\n",
       "      <td>Arizona</td>\n",
       "      <td>11063</td>\n",
       "      <td>7946</td>\n",
       "      <td>920</td>\n",
       "      <td>38</td>\n",
       "      <td>12</td>\n",
       "      <td>2</td>\n",
       "    </tr>\n",
       "    <tr>\n",
       "      <th>3</th>\n",
       "      <td>2017-09</td>\n",
       "      <td>Arkansas</td>\n",
       "      <td>4347</td>\n",
       "      <td>6063</td>\n",
       "      <td>165</td>\n",
       "      <td>13</td>\n",
       "      <td>23</td>\n",
       "      <td>0</td>\n",
       "    </tr>\n",
       "    <tr>\n",
       "      <th>4</th>\n",
       "      <td>2017-09</td>\n",
       "      <td>California</td>\n",
       "      <td>37165</td>\n",
       "      <td>24581</td>\n",
       "      <td>2984</td>\n",
       "      <td>0</td>\n",
       "      <td>0</td>\n",
       "      <td>0</td>\n",
       "    </tr>\n",
       "  </tbody>\n",
       "</table>\n",
       "</div>"
      ],
      "text/plain": [
       "     month       state  handgun  long_gun  other  private_sale_handgun  \\\n",
       "0  2017-09     Alabama     5734      6320    221                     9   \n",
       "1  2017-09      Alaska     2320      2930    219                    17   \n",
       "2  2017-09     Arizona    11063      7946    920                    38   \n",
       "3  2017-09    Arkansas     4347      6063    165                    13   \n",
       "4  2017-09  California    37165     24581   2984                     0   \n",
       "\n",
       "   private_sale_long_gun  private_sale_other  \n",
       "0                     16                   3  \n",
       "1                     24                   1  \n",
       "2                     12                   2  \n",
       "3                     23                   0  \n",
       "4                      0                   0  "
      ]
     },
     "execution_count": 13,
     "metadata": {},
     "output_type": "execute_result"
    }
   ],
   "source": [
    "#Cleaning the gun data\n",
    "cols_to_include=['month','state','handgun','long_gun','other','private_sale_handgun','private_sale_long_gun','private_sale_other']\n",
    "df_guns=df_guncheck[cols_to_include]\n",
    "df_guns.head()"
   ]
  },
  {
   "cell_type": "code",
   "execution_count": 14,
   "metadata": {
    "collapsed": false
   },
   "outputs": [
    {
     "name": "stdout",
     "output_type": "stream",
     "text": [
      "<class 'pandas.core.frame.DataFrame'>\n",
      "Int64Index: 12485 entries, 0 to 12484\n",
      "Data columns (total 8 columns):\n",
      "month                    12485 non-null object\n",
      "state                    12485 non-null object\n",
      "handgun                  12465 non-null float64\n",
      "long_gun                 12466 non-null float64\n",
      "other                    5500 non-null float64\n",
      "private_sale_handgun     2750 non-null float64\n",
      "private_sale_long_gun    2750 non-null float64\n",
      "private_sale_other       2750 non-null float64\n",
      "dtypes: float64(6), object(2)\n",
      "memory usage: 877.9+ KB\n"
     ]
    }
   ],
   "source": [
    "df_guns.info()"
   ]
  },
  {
   "cell_type": "code",
   "execution_count": 15,
   "metadata": {
    "collapsed": false
   },
   "outputs": [
    {
     "name": "stderr",
     "output_type": "stream",
     "text": [
      "//anaconda/lib/python3.4/site-packages/pandas/core/frame.py:2532: SettingWithCopyWarning: \n",
      "A value is trying to be set on a copy of a slice from a DataFrame\n",
      "\n",
      "See the the caveats in the documentation: http://pandas.pydata.org/pandas-docs/stable/indexing.html#indexing-view-versus-copy\n",
      "  **kwargs)\n"
     ]
    },
    {
     "data": {
      "text/plain": [
       "month                    0\n",
       "state                    0\n",
       "handgun                  0\n",
       "long_gun                 0\n",
       "other                    0\n",
       "private_sale_handgun     0\n",
       "private_sale_long_gun    0\n",
       "private_sale_other       0\n",
       "dtype: int64"
      ]
     },
     "execution_count": 15,
     "metadata": {},
     "output_type": "execute_result"
    }
   ],
   "source": [
    "df_guns.fillna(0,inplace=True)\n",
    "df_guns.isnull().sum()"
   ]
  },
  {
   "cell_type": "code",
   "execution_count": 16,
   "metadata": {
    "collapsed": false
   },
   "outputs": [
    {
     "data": {
      "text/plain": [
       "0"
      ]
     },
     "execution_count": 16,
     "metadata": {},
     "output_type": "execute_result"
    }
   ],
   "source": [
    "#check to see if there are duplicate values\n",
    "df_guns.duplicated().sum()"
   ]
  },
  {
   "cell_type": "markdown",
   "metadata": {},
   "source": [
    "<a id='eda'></a>\n",
    "## Exploratory Data Analysis\n",
    "\n",
    "> **Tip**: Now that you've trimmed and cleaned your data, you're ready to move on to exploration. Compute statistics and create visualizations with the goal of addressing the research questions that you posed in the Introduction section. It is recommended that you be systematic with your approach. Look at one variable at a time, and then follow it up by looking at relationships between variables.\n",
    "\n",
    "### analyzing the overall trend in gun sales"
   ]
  },
  {
   "cell_type": "code",
   "execution_count": 17,
   "metadata": {
    "collapsed": false
   },
   "outputs": [
    {
     "name": "stderr",
     "output_type": "stream",
     "text": [
      "//anaconda/lib/python3.4/site-packages/ipykernel/__main__.py:2: SettingWithCopyWarning: \n",
      "A value is trying to be set on a copy of a slice from a DataFrame.\n",
      "Try using .loc[row_indexer,col_indexer] = value instead\n",
      "\n",
      "See the the caveats in the documentation: http://pandas.pydata.org/pandas-docs/stable/indexing.html#indexing-view-versus-copy\n",
      "  from ipykernel import kernelapp as app\n"
     ]
    },
    {
     "data": {
      "text/html": [
       "<div>\n",
       "<table border=\"1\" class=\"dataframe\">\n",
       "  <thead>\n",
       "    <tr style=\"text-align: right;\">\n",
       "      <th></th>\n",
       "      <th>month</th>\n",
       "      <th>state</th>\n",
       "      <th>handgun</th>\n",
       "      <th>long_gun</th>\n",
       "      <th>other</th>\n",
       "      <th>private_sale_handgun</th>\n",
       "      <th>private_sale_long_gun</th>\n",
       "      <th>private_sale_other</th>\n",
       "      <th>gun_totals</th>\n",
       "    </tr>\n",
       "  </thead>\n",
       "  <tbody>\n",
       "    <tr>\n",
       "      <th>0</th>\n",
       "      <td>2017-09</td>\n",
       "      <td>Alabama</td>\n",
       "      <td>5734</td>\n",
       "      <td>6320</td>\n",
       "      <td>221</td>\n",
       "      <td>9</td>\n",
       "      <td>16</td>\n",
       "      <td>3</td>\n",
       "      <td>12300</td>\n",
       "    </tr>\n",
       "    <tr>\n",
       "      <th>1</th>\n",
       "      <td>2017-09</td>\n",
       "      <td>Alaska</td>\n",
       "      <td>2320</td>\n",
       "      <td>2930</td>\n",
       "      <td>219</td>\n",
       "      <td>17</td>\n",
       "      <td>24</td>\n",
       "      <td>1</td>\n",
       "      <td>5510</td>\n",
       "    </tr>\n",
       "    <tr>\n",
       "      <th>2</th>\n",
       "      <td>2017-09</td>\n",
       "      <td>Arizona</td>\n",
       "      <td>11063</td>\n",
       "      <td>7946</td>\n",
       "      <td>920</td>\n",
       "      <td>38</td>\n",
       "      <td>12</td>\n",
       "      <td>2</td>\n",
       "      <td>19979</td>\n",
       "    </tr>\n",
       "    <tr>\n",
       "      <th>3</th>\n",
       "      <td>2017-09</td>\n",
       "      <td>Arkansas</td>\n",
       "      <td>4347</td>\n",
       "      <td>6063</td>\n",
       "      <td>165</td>\n",
       "      <td>13</td>\n",
       "      <td>23</td>\n",
       "      <td>0</td>\n",
       "      <td>10611</td>\n",
       "    </tr>\n",
       "    <tr>\n",
       "      <th>4</th>\n",
       "      <td>2017-09</td>\n",
       "      <td>California</td>\n",
       "      <td>37165</td>\n",
       "      <td>24581</td>\n",
       "      <td>2984</td>\n",
       "      <td>0</td>\n",
       "      <td>0</td>\n",
       "      <td>0</td>\n",
       "      <td>64730</td>\n",
       "    </tr>\n",
       "  </tbody>\n",
       "</table>\n",
       "</div>"
      ],
      "text/plain": [
       "     month       state  handgun  long_gun  other  private_sale_handgun  \\\n",
       "0  2017-09     Alabama     5734      6320    221                     9   \n",
       "1  2017-09      Alaska     2320      2930    219                    17   \n",
       "2  2017-09     Arizona    11063      7946    920                    38   \n",
       "3  2017-09    Arkansas     4347      6063    165                    13   \n",
       "4  2017-09  California    37165     24581   2984                     0   \n",
       "\n",
       "   private_sale_long_gun  private_sale_other  gun_totals  \n",
       "0                     16                   3       12300  \n",
       "1                     24                   1        5510  \n",
       "2                     12                   2       19979  \n",
       "3                     23                   0       10611  \n",
       "4                      0                   0       64730  "
      ]
     },
     "execution_count": 17,
     "metadata": {},
     "output_type": "execute_result"
    }
   ],
   "source": [
    "#Create a new column to store the total gun sales\n",
    "df_guns['gun_totals']=df_guns.iloc[:,-6:-1].sum(axis=1)\n",
    "df_guns.head()\n"
   ]
  },
  {
   "cell_type": "code",
   "execution_count": 18,
   "metadata": {
    "collapsed": false
   },
   "outputs": [
    {
     "name": "stdout",
     "output_type": "stream",
     "text": [
      "<class 'pandas.core.frame.DataFrame'>\n",
      "Int64Index: 12485 entries, 0 to 12484\n",
      "Data columns (total 9 columns):\n",
      "month                    12485 non-null object\n",
      "state                    12485 non-null object\n",
      "handgun                  12485 non-null float64\n",
      "long_gun                 12485 non-null float64\n",
      "other                    12485 non-null float64\n",
      "private_sale_handgun     12485 non-null float64\n",
      "private_sale_long_gun    12485 non-null float64\n",
      "private_sale_other       12485 non-null float64\n",
      "gun_totals               12485 non-null float64\n",
      "dtypes: float64(7), object(2)\n",
      "memory usage: 975.4+ KB\n"
     ]
    }
   ],
   "source": [
    "df_guns.info()"
   ]
  },
  {
   "cell_type": "code",
   "execution_count": 73,
   "metadata": {
    "collapsed": false
   },
   "outputs": [
    {
     "name": "stderr",
     "output_type": "stream",
     "text": [
      "//anaconda/lib/python3.4/site-packages/ipykernel/__main__.py:2: SettingWithCopyWarning: \n",
      "A value is trying to be set on a copy of a slice from a DataFrame.\n",
      "Try using .loc[row_indexer,col_indexer] = value instead\n",
      "\n",
      "See the the caveats in the documentation: http://pandas.pydata.org/pandas-docs/stable/indexing.html#indexing-view-versus-copy\n",
      "  from ipykernel import kernelapp as app\n"
     ]
    }
   ],
   "source": [
    "#convert the month column to a datetime object and extract the year value into a new column\n",
    "df_guns['year']=pd.to_datetime(df_guns['month']).dt.year\n"
   ]
  },
  {
   "cell_type": "code",
   "execution_count": 19,
   "metadata": {
    "collapsed": false
   },
   "outputs": [
    {
     "name": "stderr",
     "output_type": "stream",
     "text": [
      "//anaconda/lib/python3.4/site-packages/ipykernel/__main__.py:1: SettingWithCopyWarning: \n",
      "A value is trying to be set on a copy of a slice from a DataFrame.\n",
      "Try using .loc[row_indexer,col_indexer] = value instead\n",
      "\n",
      "See the the caveats in the documentation: http://pandas.pydata.org/pandas-docs/stable/indexing.html#indexing-view-versus-copy\n",
      "  if __name__ == '__main__':\n"
     ]
    }
   ],
   "source": [
    "df_guns['month']=pd.to_datetime(df_guns['month']).dt.month"
   ]
  },
  {
   "cell_type": "code",
   "execution_count": 20,
   "metadata": {
    "collapsed": false
   },
   "outputs": [
    {
     "data": {
      "text/html": [
       "<div>\n",
       "<table border=\"1\" class=\"dataframe\">\n",
       "  <thead>\n",
       "    <tr style=\"text-align: right;\">\n",
       "      <th></th>\n",
       "      <th>month</th>\n",
       "      <th>state</th>\n",
       "      <th>handgun</th>\n",
       "      <th>long_gun</th>\n",
       "      <th>other</th>\n",
       "      <th>private_sale_handgun</th>\n",
       "      <th>private_sale_long_gun</th>\n",
       "      <th>private_sale_other</th>\n",
       "      <th>gun_totals</th>\n",
       "    </tr>\n",
       "  </thead>\n",
       "  <tbody>\n",
       "    <tr>\n",
       "      <th>0</th>\n",
       "      <td>9</td>\n",
       "      <td>Alabama</td>\n",
       "      <td>5734</td>\n",
       "      <td>6320</td>\n",
       "      <td>221</td>\n",
       "      <td>9</td>\n",
       "      <td>16</td>\n",
       "      <td>3</td>\n",
       "      <td>12300</td>\n",
       "    </tr>\n",
       "    <tr>\n",
       "      <th>1</th>\n",
       "      <td>9</td>\n",
       "      <td>Alaska</td>\n",
       "      <td>2320</td>\n",
       "      <td>2930</td>\n",
       "      <td>219</td>\n",
       "      <td>17</td>\n",
       "      <td>24</td>\n",
       "      <td>1</td>\n",
       "      <td>5510</td>\n",
       "    </tr>\n",
       "    <tr>\n",
       "      <th>2</th>\n",
       "      <td>9</td>\n",
       "      <td>Arizona</td>\n",
       "      <td>11063</td>\n",
       "      <td>7946</td>\n",
       "      <td>920</td>\n",
       "      <td>38</td>\n",
       "      <td>12</td>\n",
       "      <td>2</td>\n",
       "      <td>19979</td>\n",
       "    </tr>\n",
       "    <tr>\n",
       "      <th>3</th>\n",
       "      <td>9</td>\n",
       "      <td>Arkansas</td>\n",
       "      <td>4347</td>\n",
       "      <td>6063</td>\n",
       "      <td>165</td>\n",
       "      <td>13</td>\n",
       "      <td>23</td>\n",
       "      <td>0</td>\n",
       "      <td>10611</td>\n",
       "    </tr>\n",
       "    <tr>\n",
       "      <th>4</th>\n",
       "      <td>9</td>\n",
       "      <td>California</td>\n",
       "      <td>37165</td>\n",
       "      <td>24581</td>\n",
       "      <td>2984</td>\n",
       "      <td>0</td>\n",
       "      <td>0</td>\n",
       "      <td>0</td>\n",
       "      <td>64730</td>\n",
       "    </tr>\n",
       "  </tbody>\n",
       "</table>\n",
       "</div>"
      ],
      "text/plain": [
       "   month       state  handgun  long_gun  other  private_sale_handgun  \\\n",
       "0      9     Alabama     5734      6320    221                     9   \n",
       "1      9      Alaska     2320      2930    219                    17   \n",
       "2      9     Arizona    11063      7946    920                    38   \n",
       "3      9    Arkansas     4347      6063    165                    13   \n",
       "4      9  California    37165     24581   2984                     0   \n",
       "\n",
       "   private_sale_long_gun  private_sale_other  gun_totals  \n",
       "0                     16                   3       12300  \n",
       "1                     24                   1        5510  \n",
       "2                     12                   2       19979  \n",
       "3                     23                   0       10611  \n",
       "4                      0                   0       64730  "
      ]
     },
     "execution_count": 20,
     "metadata": {},
     "output_type": "execute_result"
    }
   ],
   "source": [
    "df_guns.head()"
   ]
  },
  {
   "cell_type": "code",
   "execution_count": 29,
   "metadata": {
    "collapsed": false
   },
   "outputs": [
    {
     "data": {
      "image/png": "[encoded data removed]",
      "text/plain": [
       "<matplotlib.figure.Figure at 0x11568c978>"
      ]
     },
     "metadata": {},
     "output_type": "display_data"
    }
   ],
   "source": [
    "# Explore the variable gun_totals. Find the states that have the top 5 gun sales\n",
    "df1=df_guns.groupby('state')[['long_gun']].sum().sort(columns=['long_gun'],ascending=False)[:5]\n",
    "df1_new=df_guns[df_guns['state'].isin(df1.index.values.tolist())]\n",
    "#include only data for which total guns is greater than  0\n",
    "df1_new=df1_new[df1_new['gun_totals']>0]\n",
    "df1_new.boxplot(column=['gun_totals'],by=['state'],rot=90).set_yscale('log')"
   ]
  },
  {
   "cell_type": "code",
   "execution_count": 30,
   "metadata": {
    "collapsed": false
   },
   "outputs": [
    {
     "data": {
      "text/plain": [
       "<matplotlib.text.Text at 0x1156f2400>"
      ]
     },
     "execution_count": 30,
     "metadata": {},
     "output_type": "execute_result"
    },
    {
     "data": {
      "image/png": "[encoded data removed]",
      "text/plain": [
       "<matplotlib.figure.Figure at 0x114e7a940>"
      ]
     },
     "metadata": {},
     "output_type": "display_data"
    }
   ],
   "source": [
    "#In analyzing the overall gun sale trends we plot the monthly average sales\n",
    "#monthly average sale is obtained by averaging the gunsales over all states and all years from 1998 to 2017 for each month\n",
    "monthly_guns=df_guns.groupby('month')['gun_totals'].mean()\n",
    "\n",
    "plt.plot(monthly_guns.index,monthly_guns.values)\n",
    "xvals=monthly_guns.index\n",
    "xlabels=['Jan','Feb','Mar','Apr','May','Jun','Jul','Aug','Sep','Oct','Nov','Dec']\n",
    "plt.xticks(xvals,xlabels)\n",
    "plt.xlabel('month')\n",
    "plt.ylabel('gun sales')\n",
    "plt.title('average historical monthly gun sales for all states')"
   ]
  },
  {
   "cell_type": "code",
   "execution_count": 31,
   "metadata": {
    "collapsed": false
   },
   "outputs": [
    {
     "ename": "KeyError",
     "evalue": "'year'",
     "output_type": "error",
     "traceback": [
      "\u001b[0;31m---------------------------------------------------------------------------\u001b[0m",
      "\u001b[0;31mKeyError\u001b[0m                                  Traceback (most recent call last)",
      "\u001b[0;32m<ipython-input-31-21c1a5944744>\u001b[0m in \u001b[0;36m<module>\u001b[0;34m()\u001b[0m\n\u001b[1;32m      1\u001b[0m \u001b[0;31m#group the gun data by the year and calculate the mean gun sales for every year\u001b[0m\u001b[0;34m\u001b[0m\u001b[0;34m\u001b[0m\u001b[0m\n\u001b[0;32m----> 2\u001b[0;31m \u001b[0mgun_sales_yearly\u001b[0m\u001b[0;34m=\u001b[0m\u001b[0mdf_guns\u001b[0m\u001b[0;34m.\u001b[0m\u001b[0mgroupby\u001b[0m\u001b[0;34m(\u001b[0m\u001b[0;34m'year'\u001b[0m\u001b[0;34m)\u001b[0m\u001b[0;34m[\u001b[0m\u001b[0;34m'gun_totals'\u001b[0m\u001b[0;34m]\u001b[0m\u001b[0;34m.\u001b[0m\u001b[0mmean\u001b[0m\u001b[0;34m(\u001b[0m\u001b[0;34m)\u001b[0m\u001b[0;34m\u001b[0m\u001b[0m\n\u001b[0m\u001b[1;32m      3\u001b[0m \u001b[0mgun_sales_yearly\u001b[0m\u001b[0;34m.\u001b[0m\u001b[0mhead\u001b[0m\u001b[0;34m(\u001b[0m\u001b[0;34m)\u001b[0m\u001b[0;34m\u001b[0m\u001b[0m\n",
      "\u001b[0;32m//anaconda/lib/python3.4/site-packages/pandas/core/generic.py\u001b[0m in \u001b[0;36mgroupby\u001b[0;34m(self, by, axis, level, as_index, sort, group_keys, squeeze)\u001b[0m\n\u001b[1;32m   3157\u001b[0m         \u001b[0maxis\u001b[0m \u001b[0;34m=\u001b[0m \u001b[0mself\u001b[0m\u001b[0;34m.\u001b[0m\u001b[0m_get_axis_number\u001b[0m\u001b[0;34m(\u001b[0m\u001b[0maxis\u001b[0m\u001b[0;34m)\u001b[0m\u001b[0;34m\u001b[0m\u001b[0m\n\u001b[1;32m   3158\u001b[0m         return groupby(self, by=by, axis=axis, level=level, as_index=as_index,\n\u001b[0;32m-> 3159\u001b[0;31m                        sort=sort, group_keys=group_keys, squeeze=squeeze)\n\u001b[0m\u001b[1;32m   3160\u001b[0m \u001b[0;34m\u001b[0m\u001b[0m\n\u001b[1;32m   3161\u001b[0m     \u001b[0;32mdef\u001b[0m \u001b[0masfreq\u001b[0m\u001b[0;34m(\u001b[0m\u001b[0mself\u001b[0m\u001b[0;34m,\u001b[0m \u001b[0mfreq\u001b[0m\u001b[0;34m,\u001b[0m \u001b[0mmethod\u001b[0m\u001b[0;34m=\u001b[0m\u001b[0;32mNone\u001b[0m\u001b[0;34m,\u001b[0m \u001b[0mhow\u001b[0m\u001b[0;34m=\u001b[0m\u001b[0;32mNone\u001b[0m\u001b[0;34m,\u001b[0m \u001b[0mnormalize\u001b[0m\u001b[0;34m=\u001b[0m\u001b[0;32mFalse\u001b[0m\u001b[0;34m)\u001b[0m\u001b[0;34m:\u001b[0m\u001b[0;34m\u001b[0m\u001b[0m\n",
      "\u001b[0;32m//anaconda/lib/python3.4/site-packages/pandas/core/groupby.py\u001b[0m in \u001b[0;36mgroupby\u001b[0;34m(obj, by, **kwds)\u001b[0m\n\u001b[1;32m   1197\u001b[0m         \u001b[0;32mraise\u001b[0m \u001b[0mTypeError\u001b[0m\u001b[0;34m(\u001b[0m\u001b[0;34m'invalid type: %s'\u001b[0m \u001b[0;34m%\u001b[0m \u001b[0mtype\u001b[0m\u001b[0;34m(\u001b[0m\u001b[0mobj\u001b[0m\u001b[0;34m)\u001b[0m\u001b[0;34m)\u001b[0m\u001b[0;34m\u001b[0m\u001b[0m\n\u001b[1;32m   1198\u001b[0m \u001b[0;34m\u001b[0m\u001b[0m\n\u001b[0;32m-> 1199\u001b[0;31m     \u001b[0;32mreturn\u001b[0m \u001b[0mklass\u001b[0m\u001b[0;34m(\u001b[0m\u001b[0mobj\u001b[0m\u001b[0;34m,\u001b[0m \u001b[0mby\u001b[0m\u001b[0;34m,\u001b[0m \u001b[0;34m**\u001b[0m\u001b[0mkwds\u001b[0m\u001b[0;34m)\u001b[0m\u001b[0;34m\u001b[0m\u001b[0m\n\u001b[0m\u001b[1;32m   1200\u001b[0m \u001b[0;34m\u001b[0m\u001b[0m\n\u001b[1;32m   1201\u001b[0m \u001b[0;34m\u001b[0m\u001b[0m\n",
      "\u001b[0;32m//anaconda/lib/python3.4/site-packages/pandas/core/groupby.py\u001b[0m in \u001b[0;36m__init__\u001b[0;34m(self, obj, keys, axis, level, grouper, exclusions, selection, as_index, sort, group_keys, squeeze)\u001b[0m\n\u001b[1;32m    386\u001b[0m         \u001b[0;32mif\u001b[0m \u001b[0mgrouper\u001b[0m \u001b[0;32mis\u001b[0m \u001b[0;32mNone\u001b[0m\u001b[0;34m:\u001b[0m\u001b[0;34m\u001b[0m\u001b[0m\n\u001b[1;32m    387\u001b[0m             grouper, exclusions, obj = _get_grouper(obj, keys, axis=axis,\n\u001b[0;32m--> 388\u001b[0;31m                                                     level=level, sort=sort)\n\u001b[0m\u001b[1;32m    389\u001b[0m \u001b[0;34m\u001b[0m\u001b[0m\n\u001b[1;32m    390\u001b[0m         \u001b[0mself\u001b[0m\u001b[0;34m.\u001b[0m\u001b[0mobj\u001b[0m \u001b[0;34m=\u001b[0m \u001b[0mobj\u001b[0m\u001b[0;34m\u001b[0m\u001b[0m\n",
      "\u001b[0;32m//anaconda/lib/python3.4/site-packages/pandas/core/groupby.py\u001b[0m in \u001b[0;36m_get_grouper\u001b[0;34m(obj, key, axis, level, sort)\u001b[0m\n\u001b[1;32m   2146\u001b[0m \u001b[0;34m\u001b[0m\u001b[0m\n\u001b[1;32m   2147\u001b[0m         \u001b[0;32melif\u001b[0m \u001b[0mis_in_axis\u001b[0m\u001b[0;34m(\u001b[0m\u001b[0mgpr\u001b[0m\u001b[0;34m)\u001b[0m\u001b[0;34m:\u001b[0m  \u001b[0;31m# df.groupby('name')\u001b[0m\u001b[0;34m\u001b[0m\u001b[0m\n\u001b[0;32m-> 2148\u001b[0;31m             \u001b[0min_axis\u001b[0m\u001b[0;34m,\u001b[0m \u001b[0mname\u001b[0m\u001b[0;34m,\u001b[0m \u001b[0mgpr\u001b[0m \u001b[0;34m=\u001b[0m \u001b[0;32mTrue\u001b[0m\u001b[0;34m,\u001b[0m \u001b[0mgpr\u001b[0m\u001b[0;34m,\u001b[0m \u001b[0mobj\u001b[0m\u001b[0;34m[\u001b[0m\u001b[0mgpr\u001b[0m\u001b[0;34m]\u001b[0m\u001b[0;34m\u001b[0m\u001b[0m\n\u001b[0m\u001b[1;32m   2149\u001b[0m             \u001b[0mexclusions\u001b[0m\u001b[0;34m.\u001b[0m\u001b[0mappend\u001b[0m\u001b[0;34m(\u001b[0m\u001b[0mname\u001b[0m\u001b[0;34m)\u001b[0m\u001b[0;34m\u001b[0m\u001b[0m\n\u001b[1;32m   2150\u001b[0m \u001b[0;34m\u001b[0m\u001b[0m\n",
      "\u001b[0;32m//anaconda/lib/python3.4/site-packages/pandas/core/frame.py\u001b[0m in \u001b[0;36m__getitem__\u001b[0;34m(self, key)\u001b[0m\n\u001b[1;32m   1795\u001b[0m             \u001b[0;32mreturn\u001b[0m \u001b[0mself\u001b[0m\u001b[0;34m.\u001b[0m\u001b[0m_getitem_multilevel\u001b[0m\u001b[0;34m(\u001b[0m\u001b[0mkey\u001b[0m\u001b[0;34m)\u001b[0m\u001b[0;34m\u001b[0m\u001b[0m\n\u001b[1;32m   1796\u001b[0m         \u001b[0;32melse\u001b[0m\u001b[0;34m:\u001b[0m\u001b[0;34m\u001b[0m\u001b[0m\n\u001b[0;32m-> 1797\u001b[0;31m             \u001b[0;32mreturn\u001b[0m \u001b[0mself\u001b[0m\u001b[0;34m.\u001b[0m\u001b[0m_getitem_column\u001b[0m\u001b[0;34m(\u001b[0m\u001b[0mkey\u001b[0m\u001b[0;34m)\u001b[0m\u001b[0;34m\u001b[0m\u001b[0m\n\u001b[0m\u001b[1;32m   1798\u001b[0m \u001b[0;34m\u001b[0m\u001b[0m\n\u001b[1;32m   1799\u001b[0m     \u001b[0;32mdef\u001b[0m \u001b[0m_getitem_column\u001b[0m\u001b[0;34m(\u001b[0m\u001b[0mself\u001b[0m\u001b[0;34m,\u001b[0m \u001b[0mkey\u001b[0m\u001b[0;34m)\u001b[0m\u001b[0;34m:\u001b[0m\u001b[0;34m\u001b[0m\u001b[0m\n",
      "\u001b[0;32m//anaconda/lib/python3.4/site-packages/pandas/core/frame.py\u001b[0m in \u001b[0;36m_getitem_column\u001b[0;34m(self, key)\u001b[0m\n\u001b[1;32m   1802\u001b[0m         \u001b[0;31m# get column\u001b[0m\u001b[0;34m\u001b[0m\u001b[0;34m\u001b[0m\u001b[0m\n\u001b[1;32m   1803\u001b[0m         \u001b[0;32mif\u001b[0m \u001b[0mself\u001b[0m\u001b[0;34m.\u001b[0m\u001b[0mcolumns\u001b[0m\u001b[0;34m.\u001b[0m\u001b[0mis_unique\u001b[0m\u001b[0;34m:\u001b[0m\u001b[0;34m\u001b[0m\u001b[0m\n\u001b[0;32m-> 1804\u001b[0;31m             \u001b[0;32mreturn\u001b[0m \u001b[0mself\u001b[0m\u001b[0;34m.\u001b[0m\u001b[0m_get_item_cache\u001b[0m\u001b[0;34m(\u001b[0m\u001b[0mkey\u001b[0m\u001b[0;34m)\u001b[0m\u001b[0;34m\u001b[0m\u001b[0m\n\u001b[0m\u001b[1;32m   1805\u001b[0m \u001b[0;34m\u001b[0m\u001b[0m\n\u001b[1;32m   1806\u001b[0m         \u001b[0;31m# duplicate columns & possible reduce dimensionaility\u001b[0m\u001b[0;34m\u001b[0m\u001b[0;34m\u001b[0m\u001b[0m\n",
      "\u001b[0;32m//anaconda/lib/python3.4/site-packages/pandas/core/generic.py\u001b[0m in \u001b[0;36m_get_item_cache\u001b[0;34m(self, item)\u001b[0m\n\u001b[1;32m   1082\u001b[0m         \u001b[0mres\u001b[0m \u001b[0;34m=\u001b[0m \u001b[0mcache\u001b[0m\u001b[0;34m.\u001b[0m\u001b[0mget\u001b[0m\u001b[0;34m(\u001b[0m\u001b[0mitem\u001b[0m\u001b[0;34m)\u001b[0m\u001b[0;34m\u001b[0m\u001b[0m\n\u001b[1;32m   1083\u001b[0m         \u001b[0;32mif\u001b[0m \u001b[0mres\u001b[0m \u001b[0;32mis\u001b[0m \u001b[0;32mNone\u001b[0m\u001b[0;34m:\u001b[0m\u001b[0;34m\u001b[0m\u001b[0m\n\u001b[0;32m-> 1084\u001b[0;31m             \u001b[0mvalues\u001b[0m \u001b[0;34m=\u001b[0m \u001b[0mself\u001b[0m\u001b[0;34m.\u001b[0m\u001b[0m_data\u001b[0m\u001b[0;34m.\u001b[0m\u001b[0mget\u001b[0m\u001b[0;34m(\u001b[0m\u001b[0mitem\u001b[0m\u001b[0;34m)\u001b[0m\u001b[0;34m\u001b[0m\u001b[0m\n\u001b[0m\u001b[1;32m   1085\u001b[0m             \u001b[0mres\u001b[0m \u001b[0;34m=\u001b[0m \u001b[0mself\u001b[0m\u001b[0;34m.\u001b[0m\u001b[0m_box_item_values\u001b[0m\u001b[0;34m(\u001b[0m\u001b[0mitem\u001b[0m\u001b[0;34m,\u001b[0m \u001b[0mvalues\u001b[0m\u001b[0;34m)\u001b[0m\u001b[0;34m\u001b[0m\u001b[0m\n\u001b[1;32m   1086\u001b[0m             \u001b[0mcache\u001b[0m\u001b[0;34m[\u001b[0m\u001b[0mitem\u001b[0m\u001b[0;34m]\u001b[0m \u001b[0;34m=\u001b[0m \u001b[0mres\u001b[0m\u001b[0;34m\u001b[0m\u001b[0m\n",
      "\u001b[0;32m//anaconda/lib/python3.4/site-packages/pandas/core/internals.py\u001b[0m in \u001b[0;36mget\u001b[0;34m(self, item, fastpath)\u001b[0m\n\u001b[1;32m   2849\u001b[0m \u001b[0;34m\u001b[0m\u001b[0m\n\u001b[1;32m   2850\u001b[0m             \u001b[0;32mif\u001b[0m \u001b[0;32mnot\u001b[0m \u001b[0misnull\u001b[0m\u001b[0;34m(\u001b[0m\u001b[0mitem\u001b[0m\u001b[0;34m)\u001b[0m\u001b[0;34m:\u001b[0m\u001b[0;34m\u001b[0m\u001b[0m\n\u001b[0;32m-> 2851\u001b[0;31m                 \u001b[0mloc\u001b[0m \u001b[0;34m=\u001b[0m \u001b[0mself\u001b[0m\u001b[0;34m.\u001b[0m\u001b[0mitems\u001b[0m\u001b[0;34m.\u001b[0m\u001b[0mget_loc\u001b[0m\u001b[0;34m(\u001b[0m\u001b[0mitem\u001b[0m\u001b[0;34m)\u001b[0m\u001b[0;34m\u001b[0m\u001b[0m\n\u001b[0m\u001b[1;32m   2852\u001b[0m             \u001b[0;32melse\u001b[0m\u001b[0;34m:\u001b[0m\u001b[0;34m\u001b[0m\u001b[0m\n\u001b[1;32m   2853\u001b[0m                 \u001b[0mindexer\u001b[0m \u001b[0;34m=\u001b[0m \u001b[0mnp\u001b[0m\u001b[0;34m.\u001b[0m\u001b[0marange\u001b[0m\u001b[0;34m(\u001b[0m\u001b[0mlen\u001b[0m\u001b[0;34m(\u001b[0m\u001b[0mself\u001b[0m\u001b[0;34m.\u001b[0m\u001b[0mitems\u001b[0m\u001b[0;34m)\u001b[0m\u001b[0;34m)\u001b[0m\u001b[0;34m[\u001b[0m\u001b[0misnull\u001b[0m\u001b[0;34m(\u001b[0m\u001b[0mself\u001b[0m\u001b[0;34m.\u001b[0m\u001b[0mitems\u001b[0m\u001b[0;34m)\u001b[0m\u001b[0;34m]\u001b[0m\u001b[0;34m\u001b[0m\u001b[0m\n",
      "\u001b[0;32m//anaconda/lib/python3.4/site-packages/pandas/core/index.py\u001b[0m in \u001b[0;36mget_loc\u001b[0;34m(self, key, method)\u001b[0m\n\u001b[1;32m   1570\u001b[0m         \"\"\"\n\u001b[1;32m   1571\u001b[0m         \u001b[0;32mif\u001b[0m \u001b[0mmethod\u001b[0m \u001b[0;32mis\u001b[0m \u001b[0;32mNone\u001b[0m\u001b[0;34m:\u001b[0m\u001b[0;34m\u001b[0m\u001b[0m\n\u001b[0;32m-> 1572\u001b[0;31m             \u001b[0;32mreturn\u001b[0m \u001b[0mself\u001b[0m\u001b[0;34m.\u001b[0m\u001b[0m_engine\u001b[0m\u001b[0;34m.\u001b[0m\u001b[0mget_loc\u001b[0m\u001b[0;34m(\u001b[0m\u001b[0m_values_from_object\u001b[0m\u001b[0;34m(\u001b[0m\u001b[0mkey\u001b[0m\u001b[0;34m)\u001b[0m\u001b[0;34m)\u001b[0m\u001b[0;34m\u001b[0m\u001b[0m\n\u001b[0m\u001b[1;32m   1573\u001b[0m \u001b[0;34m\u001b[0m\u001b[0m\n\u001b[1;32m   1574\u001b[0m         \u001b[0mindexer\u001b[0m \u001b[0;34m=\u001b[0m \u001b[0mself\u001b[0m\u001b[0;34m.\u001b[0m\u001b[0mget_indexer\u001b[0m\u001b[0;34m(\u001b[0m\u001b[0;34m[\u001b[0m\u001b[0mkey\u001b[0m\u001b[0;34m]\u001b[0m\u001b[0;34m,\u001b[0m \u001b[0mmethod\u001b[0m\u001b[0;34m=\u001b[0m\u001b[0mmethod\u001b[0m\u001b[0;34m)\u001b[0m\u001b[0;34m\u001b[0m\u001b[0m\n",
      "\u001b[0;32mpandas/index.pyx\u001b[0m in \u001b[0;36mpandas.index.IndexEngine.get_loc (pandas/index.c:3824)\u001b[0;34m()\u001b[0m\n",
      "\u001b[0;32mpandas/index.pyx\u001b[0m in \u001b[0;36mpandas.index.IndexEngine.get_loc (pandas/index.c:3704)\u001b[0;34m()\u001b[0m\n",
      "\u001b[0;32mpandas/hashtable.pyx\u001b[0m in \u001b[0;36mpandas.hashtable.PyObjectHashTable.get_item (pandas/hashtable.c:12280)\u001b[0;34m()\u001b[0m\n",
      "\u001b[0;32mpandas/hashtable.pyx\u001b[0m in \u001b[0;36mpandas.hashtable.PyObjectHashTable.get_item (pandas/hashtable.c:12231)\u001b[0;34m()\u001b[0m\n",
      "\u001b[0;31mKeyError\u001b[0m: 'year'"
     ]
    }
   ],
   "source": [
    "#group the gun data by the year and calculate the mean gun sales for every year\n",
    "gun_sales_yearly=df_guns.groupby('year')['gun_totals'].mean()\n",
    "gun_sales_yearly.head()"
   ]
  },
  {
   "cell_type": "code",
   "execution_count": 28,
   "metadata": {
    "collapsed": false
   },
   "outputs": [
    {
     "data": {
      "text/plain": [
       "<matplotlib.text.Text at 0x115c77c50>"
      ]
     },
     "execution_count": 28,
     "metadata": {},
     "output_type": "execute_result"
    },
    {
     "data": {
      "image/png": "[encoded data removed]",
      "text/plain": [
       "<matplotlib.figure.Figure at 0x115164e80>"
      ]
     },
     "metadata": {},
     "output_type": "display_data"
    }
   ],
   "source": [
    "plt.plot(gun_sales_yearly.index,gun_sales_yearly.values)\n",
    "plt.xlabel('year')\n",
    "plt.ylabel('number of guns')\n",
    "plt.title('Average yearly gun sales in United States')"
   ]
  },
  {
   "cell_type": "code",
   "execution_count": 107,
   "metadata": {
    "collapsed": false
   },
   "outputs": [
    {
     "data": {
      "text/plain": [
       "2016"
      ]
     },
     "execution_count": 107,
     "metadata": {},
     "output_type": "execute_result"
    }
   ],
   "source": [
    "#max gunsales \n",
    "gun_sales_yearly.idxmax()"
   ]
  },
  {
   "cell_type": "code",
   "execution_count": 108,
   "metadata": {
    "collapsed": false
   },
   "outputs": [
    {
     "data": {
      "text/plain": [
       "1998"
      ]
     },
     "execution_count": 108,
     "metadata": {},
     "output_type": "execute_result"
    }
   ],
   "source": [
    "#min gun sales\n",
    "gun_sales_yearly.idxmin()"
   ]
  },
  {
   "cell_type": "markdown",
   "metadata": {},
   "source": [
    "### What is the percapita gun sales in each state in 2010 and 2016"
   ]
  },
  {
   "cell_type": "code",
   "execution_count": 76,
   "metadata": {
    "collapsed": false
   },
   "outputs": [
    {
     "data": {
      "text/html": [
       "<div>\n",
       "<table border=\"1\" class=\"dataframe\">\n",
       "  <thead>\n",
       "    <tr style=\"text-align: right;\">\n",
       "      <th>Fact</th>\n",
       "      <th>state</th>\n",
       "      <th>population_estimates_2016</th>\n",
       "      <th>population_estimates_2010</th>\n",
       "    </tr>\n",
       "  </thead>\n",
       "  <tbody>\n",
       "    <tr>\n",
       "      <th>0</th>\n",
       "      <td>Alabama</td>\n",
       "      <td>4863300</td>\n",
       "      <td>4780131</td>\n",
       "    </tr>\n",
       "    <tr>\n",
       "      <th>1</th>\n",
       "      <td>Alaska</td>\n",
       "      <td>741894</td>\n",
       "      <td>710249</td>\n",
       "    </tr>\n",
       "    <tr>\n",
       "      <th>2</th>\n",
       "      <td>Arizona</td>\n",
       "      <td>6931071</td>\n",
       "      <td>6392301</td>\n",
       "    </tr>\n",
       "    <tr>\n",
       "      <th>3</th>\n",
       "      <td>Arkansas</td>\n",
       "      <td>2988248</td>\n",
       "      <td>2916025</td>\n",
       "    </tr>\n",
       "    <tr>\n",
       "      <th>4</th>\n",
       "      <td>California</td>\n",
       "      <td>39250017</td>\n",
       "      <td>37254522</td>\n",
       "    </tr>\n",
       "  </tbody>\n",
       "</table>\n",
       "</div>"
      ],
      "text/plain": [
       "Fact       state  population_estimates_2016  population_estimates_2010\n",
       "0        Alabama                    4863300                    4780131\n",
       "1         Alaska                     741894                     710249\n",
       "2        Arizona                    6931071                    6392301\n",
       "3       Arkansas                    2988248                    2916025\n",
       "4     California                   39250017                   37254522"
      ]
     },
     "execution_count": 76,
     "metadata": {},
     "output_type": "execute_result"
    }
   ],
   "source": [
    "# looking at the population data again\n",
    "df_pop_cleaned.head()\n"
   ]
  },
  {
   "cell_type": "code",
   "execution_count": 81,
   "metadata": {
    "collapsed": false
   },
   "outputs": [
    {
     "data": {
      "text/plain": [
       "<matplotlib.text.Text at 0x1165e49b0>"
      ]
     },
     "execution_count": 81,
     "metadata": {},
     "output_type": "execute_result"
    },
    {
     "data": {
      "image/png": "[encoded data removed]",
      "text/plain": [
       "<matplotlib.figure.Figure at 0x107970198>"
      ]
     },
     "metadata": {},
     "output_type": "display_data"
    }
   ],
   "source": [
    "# We explore the distribution of population using a histogram. The state with the highest population \n",
    "# in the histogram is California.\n",
    "plt.hist(df_pop_cleaned['population_estimates_2016'])\n",
    "plt.xlabel('Population')\n",
    "plt.ylabel('counts')\n",
    "plt.title('distribution of population of states')"
   ]
  },
  {
   "cell_type": "code",
   "execution_count": 96,
   "metadata": {
    "collapsed": false
   },
   "outputs": [
    {
     "data": {
      "text/html": [
       "<div>\n",
       "<table border=\"1\" class=\"dataframe\">\n",
       "  <thead>\n",
       "    <tr style=\"text-align: right;\">\n",
       "      <th></th>\n",
       "      <th>month</th>\n",
       "      <th>state</th>\n",
       "      <th>handgun</th>\n",
       "      <th>long_gun</th>\n",
       "      <th>other</th>\n",
       "      <th>private_sale_handgun</th>\n",
       "      <th>private_sale_long_gun</th>\n",
       "      <th>private_sale_other</th>\n",
       "      <th>gun_totals_2016</th>\n",
       "      <th>year</th>\n",
       "    </tr>\n",
       "  </thead>\n",
       "  <tbody>\n",
       "    <tr>\n",
       "      <th>770</th>\n",
       "      <td>2016-07</td>\n",
       "      <td>Alabama</td>\n",
       "      <td>10132</td>\n",
       "      <td>7392</td>\n",
       "      <td>538</td>\n",
       "      <td>9</td>\n",
       "      <td>5</td>\n",
       "      <td>0</td>\n",
       "      <td>18076</td>\n",
       "      <td>2016</td>\n",
       "    </tr>\n",
       "    <tr>\n",
       "      <th>771</th>\n",
       "      <td>2016-07</td>\n",
       "      <td>Alaska</td>\n",
       "      <td>2898</td>\n",
       "      <td>2816</td>\n",
       "      <td>239</td>\n",
       "      <td>7</td>\n",
       "      <td>17</td>\n",
       "      <td>0</td>\n",
       "      <td>5977</td>\n",
       "      <td>2016</td>\n",
       "    </tr>\n",
       "    <tr>\n",
       "      <th>772</th>\n",
       "      <td>2016-07</td>\n",
       "      <td>Arizona</td>\n",
       "      <td>13693</td>\n",
       "      <td>8643</td>\n",
       "      <td>1283</td>\n",
       "      <td>13</td>\n",
       "      <td>9</td>\n",
       "      <td>0</td>\n",
       "      <td>23641</td>\n",
       "      <td>2016</td>\n",
       "    </tr>\n",
       "    <tr>\n",
       "      <th>773</th>\n",
       "      <td>2016-07</td>\n",
       "      <td>Arkansas</td>\n",
       "      <td>6323</td>\n",
       "      <td>5053</td>\n",
       "      <td>325</td>\n",
       "      <td>7</td>\n",
       "      <td>5</td>\n",
       "      <td>1</td>\n",
       "      <td>11713</td>\n",
       "      <td>2016</td>\n",
       "    </tr>\n",
       "    <tr>\n",
       "      <th>774</th>\n",
       "      <td>2016-07</td>\n",
       "      <td>California</td>\n",
       "      <td>46361</td>\n",
       "      <td>47594</td>\n",
       "      <td>17297</td>\n",
       "      <td>0</td>\n",
       "      <td>0</td>\n",
       "      <td>0</td>\n",
       "      <td>111252</td>\n",
       "      <td>2016</td>\n",
       "    </tr>\n",
       "  </tbody>\n",
       "</table>\n",
       "</div>"
      ],
      "text/plain": [
       "       month       state  handgun  long_gun  other  private_sale_handgun  \\\n",
       "770  2016-07     Alabama    10132      7392    538                     9   \n",
       "771  2016-07      Alaska     2898      2816    239                     7   \n",
       "772  2016-07     Arizona    13693      8643   1283                    13   \n",
       "773  2016-07    Arkansas     6323      5053    325                     7   \n",
       "774  2016-07  California    46361     47594  17297                     0   \n",
       "\n",
       "     private_sale_long_gun  private_sale_other  gun_totals_2016  year  \n",
       "770                      5                   0            18076  2016  \n",
       "771                     17                   0             5977  2016  \n",
       "772                      9                   0            23641  2016  \n",
       "773                      5                   1            11713  2016  \n",
       "774                      0                   0           111252  2016  "
      ]
     },
     "execution_count": 96,
     "metadata": {},
     "output_type": "execute_result"
    }
   ],
   "source": [
    "#First we select the gun sales for the month of July 2016 (to match the census data)\n",
    "guns_2016=df_guns[df_guns['month']=='2016-07']\n",
    "guns_2016=guns_2016.rename(columns={'gun_totals':'gun_totals_2016'})\n",
    "guns_2016.head()"
   ]
  },
  {
   "cell_type": "code",
   "execution_count": 97,
   "metadata": {
    "collapsed": false
   },
   "outputs": [
    {
     "data": {
      "text/html": [
       "<div>\n",
       "<table border=\"1\" class=\"dataframe\">\n",
       "  <thead>\n",
       "    <tr style=\"text-align: right;\">\n",
       "      <th></th>\n",
       "      <th>month</th>\n",
       "      <th>state</th>\n",
       "      <th>handgun</th>\n",
       "      <th>long_gun</th>\n",
       "      <th>other</th>\n",
       "      <th>private_sale_handgun</th>\n",
       "      <th>private_sale_long_gun</th>\n",
       "      <th>private_sale_other</th>\n",
       "      <th>gun_totals_2010</th>\n",
       "      <th>year</th>\n",
       "    </tr>\n",
       "  </thead>\n",
       "  <tbody>\n",
       "    <tr>\n",
       "      <th>4895</th>\n",
       "      <td>2010-04</td>\n",
       "      <td>Alabama</td>\n",
       "      <td>8727</td>\n",
       "      <td>8095</td>\n",
       "      <td>131</td>\n",
       "      <td>NaN</td>\n",
       "      <td>NaN</td>\n",
       "      <td>NaN</td>\n",
       "      <td>16953</td>\n",
       "      <td>2010</td>\n",
       "    </tr>\n",
       "    <tr>\n",
       "      <th>4896</th>\n",
       "      <td>2010-04</td>\n",
       "      <td>Alaska</td>\n",
       "      <td>2650</td>\n",
       "      <td>3136</td>\n",
       "      <td>64</td>\n",
       "      <td>NaN</td>\n",
       "      <td>NaN</td>\n",
       "      <td>NaN</td>\n",
       "      <td>5850</td>\n",
       "      <td>2010</td>\n",
       "    </tr>\n",
       "    <tr>\n",
       "      <th>4897</th>\n",
       "      <td>2010-04</td>\n",
       "      <td>Arizona</td>\n",
       "      <td>7787</td>\n",
       "      <td>5097</td>\n",
       "      <td>198</td>\n",
       "      <td>NaN</td>\n",
       "      <td>NaN</td>\n",
       "      <td>NaN</td>\n",
       "      <td>13082</td>\n",
       "      <td>2010</td>\n",
       "    </tr>\n",
       "    <tr>\n",
       "      <th>4898</th>\n",
       "      <td>2010-04</td>\n",
       "      <td>Arkansas</td>\n",
       "      <td>3865</td>\n",
       "      <td>3833</td>\n",
       "      <td>45</td>\n",
       "      <td>NaN</td>\n",
       "      <td>NaN</td>\n",
       "      <td>NaN</td>\n",
       "      <td>7743</td>\n",
       "      <td>2010</td>\n",
       "    </tr>\n",
       "    <tr>\n",
       "      <th>4899</th>\n",
       "      <td>2010-04</td>\n",
       "      <td>California</td>\n",
       "      <td>26170</td>\n",
       "      <td>27650</td>\n",
       "      <td>0</td>\n",
       "      <td>NaN</td>\n",
       "      <td>NaN</td>\n",
       "      <td>NaN</td>\n",
       "      <td>53820</td>\n",
       "      <td>2010</td>\n",
       "    </tr>\n",
       "  </tbody>\n",
       "</table>\n",
       "</div>"
      ],
      "text/plain": [
       "        month       state  handgun  long_gun  other  private_sale_handgun  \\\n",
       "4895  2010-04     Alabama     8727      8095    131                   NaN   \n",
       "4896  2010-04      Alaska     2650      3136     64                   NaN   \n",
       "4897  2010-04     Arizona     7787      5097    198                   NaN   \n",
       "4898  2010-04    Arkansas     3865      3833     45                   NaN   \n",
       "4899  2010-04  California    26170     27650      0                   NaN   \n",
       "\n",
       "      private_sale_long_gun  private_sale_other  gun_totals_2010  year  \n",
       "4895                    NaN                 NaN            16953  2010  \n",
       "4896                    NaN                 NaN             5850  2010  \n",
       "4897                    NaN                 NaN            13082  2010  \n",
       "4898                    NaN                 NaN             7743  2010  \n",
       "4899                    NaN                 NaN            53820  2010  "
      ]
     },
     "execution_count": 97,
     "metadata": {},
     "output_type": "execute_result"
    }
   ],
   "source": [
    "#select the gun sales for the month of April 2010\n",
    "guns_2010=df_guns[df_guns['month']=='2010-04']\n",
    "guns_2010=guns_2010.rename(columns={'gun_totals':'gun_totals_2010'})\n",
    "guns_2010.head()"
   ]
  },
  {
   "cell_type": "code",
   "execution_count": 98,
   "metadata": {
    "collapsed": false
   },
   "outputs": [],
   "source": [
    "# drop all the extra columns\n",
    "cols_to_include_2016=['month','state','gun_totals_2016','year']\n",
    "cols_to_include_2010=['month','state','gun_totals_2010','year']\n",
    "df_guns_2010=guns_2010[cols_to_include_2010]\n",
    "df_guns_2016=guns_2016[cols_to_include_2016]"
   ]
  },
  {
   "cell_type": "code",
   "execution_count": 99,
   "metadata": {
    "collapsed": false
   },
   "outputs": [
    {
     "data": {
      "text/html": [
       "<div>\n",
       "<table border=\"1\" class=\"dataframe\">\n",
       "  <thead>\n",
       "    <tr style=\"text-align: right;\">\n",
       "      <th></th>\n",
       "      <th>month_x</th>\n",
       "      <th>state</th>\n",
       "      <th>gun_totals_2010</th>\n",
       "      <th>year_x</th>\n",
       "      <th>month_y</th>\n",
       "      <th>gun_totals_2016</th>\n",
       "      <th>year_y</th>\n",
       "    </tr>\n",
       "  </thead>\n",
       "  <tbody>\n",
       "    <tr>\n",
       "      <th>0</th>\n",
       "      <td>2010-04</td>\n",
       "      <td>Alabama</td>\n",
       "      <td>16953</td>\n",
       "      <td>2010</td>\n",
       "      <td>2016-07</td>\n",
       "      <td>18076</td>\n",
       "      <td>2016</td>\n",
       "    </tr>\n",
       "    <tr>\n",
       "      <th>1</th>\n",
       "      <td>2010-04</td>\n",
       "      <td>Alaska</td>\n",
       "      <td>5850</td>\n",
       "      <td>2010</td>\n",
       "      <td>2016-07</td>\n",
       "      <td>5977</td>\n",
       "      <td>2016</td>\n",
       "    </tr>\n",
       "    <tr>\n",
       "      <th>2</th>\n",
       "      <td>2010-04</td>\n",
       "      <td>Arizona</td>\n",
       "      <td>13082</td>\n",
       "      <td>2010</td>\n",
       "      <td>2016-07</td>\n",
       "      <td>23641</td>\n",
       "      <td>2016</td>\n",
       "    </tr>\n",
       "    <tr>\n",
       "      <th>3</th>\n",
       "      <td>2010-04</td>\n",
       "      <td>Arkansas</td>\n",
       "      <td>7743</td>\n",
       "      <td>2010</td>\n",
       "      <td>2016-07</td>\n",
       "      <td>11713</td>\n",
       "      <td>2016</td>\n",
       "    </tr>\n",
       "    <tr>\n",
       "      <th>4</th>\n",
       "      <td>2010-04</td>\n",
       "      <td>California</td>\n",
       "      <td>53820</td>\n",
       "      <td>2010</td>\n",
       "      <td>2016-07</td>\n",
       "      <td>111252</td>\n",
       "      <td>2016</td>\n",
       "    </tr>\n",
       "  </tbody>\n",
       "</table>\n",
       "</div>"
      ],
      "text/plain": [
       "   month_x       state  gun_totals_2010  year_x  month_y  gun_totals_2016  \\\n",
       "0  2010-04     Alabama            16953    2010  2016-07            18076   \n",
       "1  2010-04      Alaska             5850    2010  2016-07             5977   \n",
       "2  2010-04     Arizona            13082    2010  2016-07            23641   \n",
       "3  2010-04    Arkansas             7743    2010  2016-07            11713   \n",
       "4  2010-04  California            53820    2010  2016-07           111252   \n",
       "\n",
       "   year_y  \n",
       "0    2016  \n",
       "1    2016  \n",
       "2    2016  \n",
       "3    2016  \n",
       "4    2016  "
      ]
     },
     "execution_count": 99,
     "metadata": {},
     "output_type": "execute_result"
    }
   ],
   "source": [
    "#merge the two gundatas into a single dataframe\n",
    "df_guns_merged=df_guns_2010.merge(df_guns_2016,how='left',on='state')\n",
    "df_guns_merged.head()"
   ]
  },
  {
   "cell_type": "code",
   "execution_count": 100,
   "metadata": {
    "collapsed": false
   },
   "outputs": [],
   "source": [
    "#merge the gun data with the census data\n",
    "df_merged=df_pop_cleaned.merge(df_guns_merged,how='left',on='state')\n"
   ]
  },
  {
   "cell_type": "code",
   "execution_count": 101,
   "metadata": {
    "collapsed": false
   },
   "outputs": [
    {
     "data": {
      "text/html": [
       "<div>\n",
       "<table border=\"1\" class=\"dataframe\">\n",
       "  <thead>\n",
       "    <tr style=\"text-align: right;\">\n",
       "      <th>Fact</th>\n",
       "      <th>state</th>\n",
       "      <th>population_estimates_2016</th>\n",
       "      <th>population_estimates_2010</th>\n",
       "      <th>month_x</th>\n",
       "      <th>gun_totals_2010</th>\n",
       "      <th>year_x</th>\n",
       "      <th>month_y</th>\n",
       "      <th>gun_totals_2016</th>\n",
       "      <th>year_y</th>\n",
       "    </tr>\n",
       "  </thead>\n",
       "  <tbody>\n",
       "    <tr>\n",
       "      <th>0</th>\n",
       "      <td>Alabama</td>\n",
       "      <td>4863300</td>\n",
       "      <td>4780131</td>\n",
       "      <td>2010-04</td>\n",
       "      <td>16953</td>\n",
       "      <td>2010</td>\n",
       "      <td>2016-07</td>\n",
       "      <td>18076</td>\n",
       "      <td>2016</td>\n",
       "    </tr>\n",
       "    <tr>\n",
       "      <th>1</th>\n",
       "      <td>Alaska</td>\n",
       "      <td>741894</td>\n",
       "      <td>710249</td>\n",
       "      <td>2010-04</td>\n",
       "      <td>5850</td>\n",
       "      <td>2010</td>\n",
       "      <td>2016-07</td>\n",
       "      <td>5977</td>\n",
       "      <td>2016</td>\n",
       "    </tr>\n",
       "    <tr>\n",
       "      <th>2</th>\n",
       "      <td>Arizona</td>\n",
       "      <td>6931071</td>\n",
       "      <td>6392301</td>\n",
       "      <td>2010-04</td>\n",
       "      <td>13082</td>\n",
       "      <td>2010</td>\n",
       "      <td>2016-07</td>\n",
       "      <td>23641</td>\n",
       "      <td>2016</td>\n",
       "    </tr>\n",
       "    <tr>\n",
       "      <th>3</th>\n",
       "      <td>Arkansas</td>\n",
       "      <td>2988248</td>\n",
       "      <td>2916025</td>\n",
       "      <td>2010-04</td>\n",
       "      <td>7743</td>\n",
       "      <td>2010</td>\n",
       "      <td>2016-07</td>\n",
       "      <td>11713</td>\n",
       "      <td>2016</td>\n",
       "    </tr>\n",
       "    <tr>\n",
       "      <th>4</th>\n",
       "      <td>California</td>\n",
       "      <td>39250017</td>\n",
       "      <td>37254522</td>\n",
       "      <td>2010-04</td>\n",
       "      <td>53820</td>\n",
       "      <td>2010</td>\n",
       "      <td>2016-07</td>\n",
       "      <td>111252</td>\n",
       "      <td>2016</td>\n",
       "    </tr>\n",
       "  </tbody>\n",
       "</table>\n",
       "</div>"
      ],
      "text/plain": [
       "Fact       state  population_estimates_2016  population_estimates_2010  \\\n",
       "0        Alabama                    4863300                    4780131   \n",
       "1         Alaska                     741894                     710249   \n",
       "2        Arizona                    6931071                    6392301   \n",
       "3       Arkansas                    2988248                    2916025   \n",
       "4     California                   39250017                   37254522   \n",
       "\n",
       "Fact  month_x  gun_totals_2010  year_x  month_y  gun_totals_2016  year_y  \n",
       "0     2010-04            16953    2010  2016-07            18076    2016  \n",
       "1     2010-04             5850    2010  2016-07             5977    2016  \n",
       "2     2010-04            13082    2010  2016-07            23641    2016  \n",
       "3     2010-04             7743    2010  2016-07            11713    2016  \n",
       "4     2010-04            53820    2010  2016-07           111252    2016  "
      ]
     },
     "execution_count": 101,
     "metadata": {},
     "output_type": "execute_result"
    }
   ],
   "source": [
    "df_merged.head()"
   ]
  },
  {
   "cell_type": "code",
   "execution_count": 102,
   "metadata": {
    "collapsed": false
   },
   "outputs": [
    {
     "data": {
      "text/html": [
       "<div>\n",
       "<table border=\"1\" class=\"dataframe\">\n",
       "  <thead>\n",
       "    <tr style=\"text-align: right;\">\n",
       "      <th>Fact</th>\n",
       "      <th>state</th>\n",
       "      <th>population_estimates_2016</th>\n",
       "      <th>population_estimates_2010</th>\n",
       "      <th>gun_totals_2016</th>\n",
       "      <th>gun_totals_2010</th>\n",
       "    </tr>\n",
       "  </thead>\n",
       "  <tbody>\n",
       "    <tr>\n",
       "      <th>0</th>\n",
       "      <td>Alabama</td>\n",
       "      <td>4863300</td>\n",
       "      <td>4780131</td>\n",
       "      <td>18076</td>\n",
       "      <td>16953</td>\n",
       "    </tr>\n",
       "    <tr>\n",
       "      <th>1</th>\n",
       "      <td>Alaska</td>\n",
       "      <td>741894</td>\n",
       "      <td>710249</td>\n",
       "      <td>5977</td>\n",
       "      <td>5850</td>\n",
       "    </tr>\n",
       "    <tr>\n",
       "      <th>2</th>\n",
       "      <td>Arizona</td>\n",
       "      <td>6931071</td>\n",
       "      <td>6392301</td>\n",
       "      <td>23641</td>\n",
       "      <td>13082</td>\n",
       "    </tr>\n",
       "    <tr>\n",
       "      <th>3</th>\n",
       "      <td>Arkansas</td>\n",
       "      <td>2988248</td>\n",
       "      <td>2916025</td>\n",
       "      <td>11713</td>\n",
       "      <td>7743</td>\n",
       "    </tr>\n",
       "    <tr>\n",
       "      <th>4</th>\n",
       "      <td>California</td>\n",
       "      <td>39250017</td>\n",
       "      <td>37254522</td>\n",
       "      <td>111252</td>\n",
       "      <td>53820</td>\n",
       "    </tr>\n",
       "  </tbody>\n",
       "</table>\n",
       "</div>"
      ],
      "text/plain": [
       "Fact       state  population_estimates_2016  population_estimates_2010  \\\n",
       "0        Alabama                    4863300                    4780131   \n",
       "1         Alaska                     741894                     710249   \n",
       "2        Arizona                    6931071                    6392301   \n",
       "3       Arkansas                    2988248                    2916025   \n",
       "4     California                   39250017                   37254522   \n",
       "\n",
       "Fact  gun_totals_2016  gun_totals_2010  \n",
       "0               18076            16953  \n",
       "1                5977             5850  \n",
       "2               23641            13082  \n",
       "3               11713             7743  \n",
       "4              111252            53820  "
      ]
     },
     "execution_count": 102,
     "metadata": {},
     "output_type": "execute_result"
    }
   ],
   "source": [
    "cols_to_keep=['state','population_estimates_2016','population_estimates_2010','gun_totals_2016','gun_totals_2010']\n",
    "df_merged=df_merged[cols_to_keep]\n",
    "df_merged.head()"
   ]
  },
  {
   "cell_type": "code",
   "execution_count": 103,
   "metadata": {
    "collapsed": false
   },
   "outputs": [
    {
     "data": {
      "text/html": [
       "<div>\n",
       "<table border=\"1\" class=\"dataframe\">\n",
       "  <thead>\n",
       "    <tr style=\"text-align: right;\">\n",
       "      <th>Fact</th>\n",
       "      <th>state</th>\n",
       "      <th>population_estimates_2016</th>\n",
       "      <th>population_estimates_2010</th>\n",
       "      <th>gun_totals_2016</th>\n",
       "      <th>gun_totals_2010</th>\n",
       "      <th>gun_2016_per_100thousand</th>\n",
       "      <th>gun_2010_per_100thousand</th>\n",
       "    </tr>\n",
       "  </thead>\n",
       "  <tbody>\n",
       "    <tr>\n",
       "      <th>0</th>\n",
       "      <td>Alabama</td>\n",
       "      <td>4863300</td>\n",
       "      <td>4780131</td>\n",
       "      <td>18076</td>\n",
       "      <td>16953</td>\n",
       "      <td>371.681780</td>\n",
       "      <td>354.655552</td>\n",
       "    </tr>\n",
       "    <tr>\n",
       "      <th>1</th>\n",
       "      <td>Alaska</td>\n",
       "      <td>741894</td>\n",
       "      <td>710249</td>\n",
       "      <td>5977</td>\n",
       "      <td>5850</td>\n",
       "      <td>805.640698</td>\n",
       "      <td>823.654803</td>\n",
       "    </tr>\n",
       "    <tr>\n",
       "      <th>2</th>\n",
       "      <td>Arizona</td>\n",
       "      <td>6931071</td>\n",
       "      <td>6392301</td>\n",
       "      <td>23641</td>\n",
       "      <td>13082</td>\n",
       "      <td>341.087258</td>\n",
       "      <td>204.652440</td>\n",
       "    </tr>\n",
       "    <tr>\n",
       "      <th>3</th>\n",
       "      <td>Arkansas</td>\n",
       "      <td>2988248</td>\n",
       "      <td>2916025</td>\n",
       "      <td>11713</td>\n",
       "      <td>7743</td>\n",
       "      <td>391.968806</td>\n",
       "      <td>265.532703</td>\n",
       "    </tr>\n",
       "    <tr>\n",
       "      <th>4</th>\n",
       "      <td>California</td>\n",
       "      <td>39250017</td>\n",
       "      <td>37254522</td>\n",
       "      <td>111252</td>\n",
       "      <td>53820</td>\n",
       "      <td>283.444463</td>\n",
       "      <td>144.465684</td>\n",
       "    </tr>\n",
       "  </tbody>\n",
       "</table>\n",
       "</div>"
      ],
      "text/plain": [
       "Fact       state  population_estimates_2016  population_estimates_2010  \\\n",
       "0        Alabama                    4863300                    4780131   \n",
       "1         Alaska                     741894                     710249   \n",
       "2        Arizona                    6931071                    6392301   \n",
       "3       Arkansas                    2988248                    2916025   \n",
       "4     California                   39250017                   37254522   \n",
       "\n",
       "Fact  gun_totals_2016  gun_totals_2010  gun_2016_per_100thousand  \\\n",
       "0               18076            16953                371.681780   \n",
       "1                5977             5850                805.640698   \n",
       "2               23641            13082                341.087258   \n",
       "3               11713             7743                391.968806   \n",
       "4              111252            53820                283.444463   \n",
       "\n",
       "Fact  gun_2010_per_100thousand  \n",
       "0                   354.655552  \n",
       "1                   823.654803  \n",
       "2                   204.652440  \n",
       "3                   265.532703  \n",
       "4                   144.465684  "
      ]
     },
     "execution_count": 103,
     "metadata": {},
     "output_type": "execute_result"
    }
   ],
   "source": [
    "#calculate gun totals per capita\n",
    "df_merged['gun_2016_per_100thousand']=df_merged['gun_totals_2016']/df_merged['population_estimates_2016']*100000\n",
    "df_merged['gun_2010_per_100thousand']=df_merged['gun_totals_2010']/df_merged['population_estimates_2010']*100000\n",
    "df_merged.head()"
   ]
  },
  {
   "cell_type": "code",
   "execution_count": 104,
   "metadata": {
    "collapsed": false
   },
   "outputs": [
    {
     "data": {
      "text/html": [
       "<div>\n",
       "<table border=\"1\" class=\"dataframe\">\n",
       "  <thead>\n",
       "    <tr style=\"text-align: right;\">\n",
       "      <th>Fact</th>\n",
       "      <th>state</th>\n",
       "      <th>population_estimates_2016</th>\n",
       "      <th>population_estimates_2010</th>\n",
       "      <th>gun_totals_2016</th>\n",
       "      <th>gun_totals_2010</th>\n",
       "      <th>gun_2016_per_100thousand</th>\n",
       "      <th>gun_2010_per_100thousand</th>\n",
       "    </tr>\n",
       "  </thead>\n",
       "  <tbody>\n",
       "    <tr>\n",
       "      <th>10</th>\n",
       "      <td>Hawaii</td>\n",
       "      <td>1428557</td>\n",
       "      <td>1360301</td>\n",
       "      <td>0</td>\n",
       "      <td>0</td>\n",
       "      <td>0.000000</td>\n",
       "      <td>0.000000</td>\n",
       "    </tr>\n",
       "    <tr>\n",
       "      <th>14</th>\n",
       "      <td>Iowa</td>\n",
       "      <td>3134693</td>\n",
       "      <td>3046869</td>\n",
       "      <td>2444</td>\n",
       "      <td>2492</td>\n",
       "      <td>77.966168</td>\n",
       "      <td>81.788879</td>\n",
       "    </tr>\n",
       "    <tr>\n",
       "      <th>26</th>\n",
       "      <td>Nebraska</td>\n",
       "      <td>1907116</td>\n",
       "      <td>1826334</td>\n",
       "      <td>1651</td>\n",
       "      <td>1729</td>\n",
       "      <td>86.570508</td>\n",
       "      <td>94.670526</td>\n",
       "    </tr>\n",
       "    <tr>\n",
       "      <th>29</th>\n",
       "      <td>New Jersey</td>\n",
       "      <td>8944469</td>\n",
       "      <td>8791953</td>\n",
       "      <td>10074</td>\n",
       "      <td>4142</td>\n",
       "      <td>112.628262</td>\n",
       "      <td>47.111262</td>\n",
       "    </tr>\n",
       "    <tr>\n",
       "      <th>31</th>\n",
       "      <td>New York</td>\n",
       "      <td>19745289</td>\n",
       "      <td>19378110</td>\n",
       "      <td>25518</td>\n",
       "      <td>17137</td>\n",
       "      <td>129.235890</td>\n",
       "      <td>88.434837</td>\n",
       "    </tr>\n",
       "  </tbody>\n",
       "</table>\n",
       "</div>"
      ],
      "text/plain": [
       "Fact       state  population_estimates_2016  population_estimates_2010  \\\n",
       "10        Hawaii                    1428557                    1360301   \n",
       "14          Iowa                    3134693                    3046869   \n",
       "26      Nebraska                    1907116                    1826334   \n",
       "29    New Jersey                    8944469                    8791953   \n",
       "31      New York                   19745289                   19378110   \n",
       "\n",
       "Fact  gun_totals_2016  gun_totals_2010  gun_2016_per_100thousand  \\\n",
       "10                  0                0                  0.000000   \n",
       "14               2444             2492                 77.966168   \n",
       "26               1651             1729                 86.570508   \n",
       "29              10074             4142                112.628262   \n",
       "31              25518            17137                129.235890   \n",
       "\n",
       "Fact  gun_2010_per_100thousand  \n",
       "10                    0.000000  \n",
       "14                   81.788879  \n",
       "26                   94.670526  \n",
       "29                   47.111262  \n",
       "31                   88.434837  "
      ]
     },
     "execution_count": 104,
     "metadata": {},
     "output_type": "execute_result"
    }
   ],
   "source": [
    "# sort the data by the highest gun sales in 2016\n",
    "df_merged_sorted=df_merged.sort(['gun_2016_per_100thousand'])\n",
    "df_merged_sorted.head()"
   ]
  },
  {
   "cell_type": "code",
   "execution_count": 119,
   "metadata": {
    "collapsed": false
   },
   "outputs": [
    {
     "data": {
      "text/plain": [
       "array(['Hawaii', 'Iowa', 'Nebraska', 'New Jersey', 'New York',\n",
       "       'North Carolina', 'Maryland', 'Massachusetts', 'Michigan',\n",
       "       'Rhode Island', 'Utah', 'Georgia', 'Illinois', 'California',\n",
       "       'Nevada', 'Texas', 'South Carolina', 'Arizona', 'Minnesota',\n",
       "       'Kentucky', 'Alabama', 'Delaware', 'Arkansas', 'Kansas', 'Ohio',\n",
       "       'Wisconsin', 'Washington', 'Vermont', 'Connecticut', 'Florida',\n",
       "       'Idaho', 'Pennsylvania', 'New Mexico', 'Indiana', 'Maine',\n",
       "       'Virginia', 'North Dakota', 'Oklahoma', 'Mississippi', 'Missouri',\n",
       "       'Wyoming', 'Oregon', 'Tennessee', 'Colorado', 'West Virginia',\n",
       "       'South Dakota', 'Montana', 'New Hampshire', 'Louisiana', 'Alaska'], dtype=object)"
      ]
     },
     "execution_count": 119,
     "metadata": {},
     "output_type": "execute_result"
    }
   ],
   "source": [
    "xlabels=df_merged_sorted.state.values\n",
    "xlabels"
   ]
  },
  {
   "cell_type": "code",
   "execution_count": 112,
   "metadata": {
    "collapsed": false
   },
   "outputs": [
    {
     "data": {
      "text/html": [
       "<div>\n",
       "<table border=\"1\" class=\"dataframe\">\n",
       "  <thead>\n",
       "    <tr style=\"text-align: right;\">\n",
       "      <th>Fact</th>\n",
       "      <th>state</th>\n",
       "      <th>population_estimates_2016</th>\n",
       "      <th>population_estimates_2010</th>\n",
       "      <th>gun_totals_2016</th>\n",
       "      <th>gun_totals_2010</th>\n",
       "      <th>gun_2016_per_100thousand</th>\n",
       "      <th>gun_2010_per_100thousand</th>\n",
       "    </tr>\n",
       "  </thead>\n",
       "  <tbody>\n",
       "    <tr>\n",
       "      <th>40</th>\n",
       "      <td>South Dakota</td>\n",
       "      <td>865454</td>\n",
       "      <td>814195</td>\n",
       "      <td>5777</td>\n",
       "      <td>4200</td>\n",
       "      <td>667.510925</td>\n",
       "      <td>515.846941</td>\n",
       "    </tr>\n",
       "    <tr>\n",
       "      <th>25</th>\n",
       "      <td>Montana</td>\n",
       "      <td>1042520</td>\n",
       "      <td>989414</td>\n",
       "      <td>6998</td>\n",
       "      <td>6061</td>\n",
       "      <td>671.258105</td>\n",
       "      <td>612.584823</td>\n",
       "    </tr>\n",
       "    <tr>\n",
       "      <th>28</th>\n",
       "      <td>New Hampshire</td>\n",
       "      <td>1334795</td>\n",
       "      <td>1316461</td>\n",
       "      <td>9105</td>\n",
       "      <td>5001</td>\n",
       "      <td>682.127218</td>\n",
       "      <td>379.882123</td>\n",
       "    </tr>\n",
       "    <tr>\n",
       "      <th>17</th>\n",
       "      <td>Louisiana</td>\n",
       "      <td>4681666</td>\n",
       "      <td>4533479</td>\n",
       "      <td>35351</td>\n",
       "      <td>11469</td>\n",
       "      <td>755.094447</td>\n",
       "      <td>252.984518</td>\n",
       "    </tr>\n",
       "    <tr>\n",
       "      <th>1</th>\n",
       "      <td>Alaska</td>\n",
       "      <td>741894</td>\n",
       "      <td>710249</td>\n",
       "      <td>5977</td>\n",
       "      <td>5850</td>\n",
       "      <td>805.640698</td>\n",
       "      <td>823.654803</td>\n",
       "    </tr>\n",
       "  </tbody>\n",
       "</table>\n",
       "</div>"
      ],
      "text/plain": [
       "Fact          state  population_estimates_2016  population_estimates_2010  \\\n",
       "40     South Dakota                     865454                     814195   \n",
       "25          Montana                    1042520                     989414   \n",
       "28    New Hampshire                    1334795                    1316461   \n",
       "17        Louisiana                    4681666                    4533479   \n",
       "1            Alaska                     741894                     710249   \n",
       "\n",
       "Fact  gun_totals_2016  gun_totals_2010  gun_2016_per_100thousand  \\\n",
       "40               5777             4200                667.510925   \n",
       "25               6998             6061                671.258105   \n",
       "28               9105             5001                682.127218   \n",
       "17              35351            11469                755.094447   \n",
       "1                5977             5850                805.640698   \n",
       "\n",
       "Fact  gun_2010_per_100thousand  \n",
       "40                  515.846941  \n",
       "25                  612.584823  \n",
       "28                  379.882123  \n",
       "17                  252.984518  \n",
       "1                   823.654803  "
      ]
     },
     "execution_count": 112,
     "metadata": {},
     "output_type": "execute_result"
    }
   ],
   "source": [
    "df_merged_sorted.tail()"
   ]
  },
  {
   "cell_type": "code",
   "execution_count": 121,
   "metadata": {
    "collapsed": false
   },
   "outputs": [
    {
     "name": "stdout",
     "output_type": "stream",
     "text": [
      "[   0.           77.96616766   86.57050751  112.62826223  129.23589014\n",
      "  144.72560184  159.41302234  189.71549136  200.59828974  208.0600061\n",
      "  228.9250486   238.40073262  260.14059716  283.44446322  290.06230489\n",
      "  319.08369199  333.91660228  341.08725765  360.07559486  368.15631554\n",
      "  371.68177986  381.8016627   391.9688058   395.11035883  411.71400299\n",
      "  413.89874692  414.59934138  418.3517613   436.04667419  438.84665953\n",
      "  440.90212341  458.80756029  472.36564849  502.49862318  504.70191419\n",
      "  504.83796111  515.99573588  554.06300552  568.60347854  592.94272116\n",
      "  601.19453255  605.6238419   637.38931687  639.75655824  648.73502405\n",
      "  667.5109249   671.25810536  682.12721804  755.09444715  805.640698  ]\n"
     ]
    },
    {
     "data": {
      "text/plain": [
       "<matplotlib.text.Text at 0x117daa630>"
      ]
     },
     "execution_count": 121,
     "metadata": {},
     "output_type": "execute_result"
    },
    {
     "data": {
      "image/png": "[encoded data removed]",
      "text/plain": [
       "<matplotlib.figure.Figure at 0x117ad37b8>"
      ]
     },
     "metadata": {},
     "output_type": "display_data"
    }
   ],
   "source": [
    "xvals=np.arange(50)\n",
    "print(df_merged_sorted['gun_2016_per_100thousand'].values)\n",
    "bars_2016=plt.bar(xvals,height=df_merged_sorted['gun_2016_per_100thousand'].values,width=0.3,color='r',label='2016');\n",
    "bars_2010=plt.bar(xvals+0.3,height=df_merged_sorted['gun_2010_per_100thousand'].values,width=0.3,color='b',label='2010')\n",
    "plt.xticks(xvals,xlabels,rotation=90)\n",
    "plt.ylabel('gunsales per 100 thousand')\n",
    "plt.xlabel('states')\n",
    "plt.legend(loc='best')\n",
    "plt.title('Gun Sale in 50 states in 2010 and 2016')"
   ]
  },
  {
   "cell_type": "markdown",
   "metadata": {},
   "source": [
    "<a id='conclusions'></a>\n",
    "## Conclusions\n",
    "\n"
   ]
  },
  {
   "cell_type": "markdown",
   "metadata": {
    "collapsed": false
   },
   "source": [
    "Obervation 1:\n",
    "a) referring to the figure of the avergae yearly gun sales, the highest avergae gun sales were in the year 2016 and the lowest in the year 1998. \n",
    "\n",
    "b) referring to the monthly average sales there seems to be a monthly uptick in gun sales in the month of December"
   ]
  },
  {
   "cell_type": "markdown",
   "metadata": {
    "collapsed": true
   },
   "source": [
    "Observation 2: referring to the plot of gun sales in 50 states we see Alaska has the higest gunsale of 826 guns per 100,000 people in 2016. Of the 50 states Iowa has the lowest per capita gun sales of 78 per 100,000 people in 2016."
   ]
  },
  {
   "cell_type": "markdown",
   "metadata": {},
   "source": [
    "Limitations: \n",
    "Firstly we are using the FBI background check data as a proxy for gun sales. We are making an assumption that if a background check is performed we will interpret it as a sale. However this is not true in real life. Folks might decide not to buy the gun after the check in performed. Hence all the conclusions we have drawn about the gun sales is reliant on making this assumption of a one to one correspondence between background check and gun sales\n",
    "Secondly many states donot have a requirement to perform a background check for private sales. Hence our analysis might miss those situations where gunsales where performed but no background check is requires."
   ]
  },
  {
   "cell_type": "code",
   "execution_count": null,
   "metadata": {
    "collapsed": true
   },
   "outputs": [],
   "source": []
  }
 ],
 "metadata": {
  "anaconda-cloud": {},
  "kernelspec": {
   "display_name": "Python [default]",
   "language": "python",
   "name": "python3"
  },
  "language_info": {
   "codemirror_mode": {
    "name": "ipython",
    "version": 3
   },
   "file_extension": ".py",
   "mimetype": "text/x-python",
   "name": "python",
   "nbconvert_exporter": "python",
   "pygments_lexer": "ipython3",
   "version": "3.4.5"
  }
 },
 "nbformat": 4,
 "nbformat_minor": 2
}
